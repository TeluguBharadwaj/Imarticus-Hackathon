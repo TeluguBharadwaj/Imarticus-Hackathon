{
 "cells": [
  {
   "cell_type": "code",
   "execution_count": 1,
   "id": "cefb8453",
   "metadata": {},
   "outputs": [],
   "source": [
    "%matplotlib inline\n",
    "import numpy as np\n",
    "import pandas as pd\n",
    "import matplotlib.pyplot as plt\n",
    "import seaborn as sns\n",
    "import warnings\n",
    "warnings.filterwarnings(\"ignore\")\n",
    "pd.set_option(\"display.max_columns\",None)\n",
    "from scipy import stats\n",
    "import statsmodels.api as sm\n",
    "from statsmodels.formula.api import ols\n",
    "from statsmodels.stats.multicomp import pairwise_tukeyhsd\n",
    "from scipy.stats import chi2_contingency\n",
    "from sklearn.linear_model import LogisticRegression\n",
    "from sklearn import metrics\n",
    "from sklearn.metrics import classification_report, confusion_matrix, accuracy_score\n",
    "from sklearn.metrics import classification_report\n",
    "from sklearn.metrics import roc_curve, auc, roc_auc_score\n",
    "from sklearn.utils import resample"
   ]
  },
  {
   "cell_type": "code",
   "execution_count": 2,
   "id": "e70319d1",
   "metadata": {},
   "outputs": [],
   "source": [
    "# Load training dataset\n",
    "train_df = pd.read_csv(\"C:\\\\Users\\\\telug\\\\OneDrive\\\\Desktop\\\\DS\\\\Imarticus Hackathon\\\\ABC_Bank_train_data.csv\")"
   ]
  },
  {
   "cell_type": "code",
   "execution_count": 3,
   "id": "be31579e",
   "metadata": {},
   "outputs": [],
   "source": [
    "# Load test dataset\n",
    "test_df = pd.read_csv(\"C:\\\\Users\\\\telug\\\\OneDrive\\\\Desktop\\\\DS\\\\Imarticus Hackathon\\\\ABC_Bank_test_data.csv\")"
   ]
  },
  {
   "cell_type": "code",
   "execution_count": 4,
   "id": "e2a6320f",
   "metadata": {},
   "outputs": [
    {
     "data": {
      "text/html": [
       "<div>\n",
       "<style scoped>\n",
       "    .dataframe tbody tr th:only-of-type {\n",
       "        vertical-align: middle;\n",
       "    }\n",
       "\n",
       "    .dataframe tbody tr th {\n",
       "        vertical-align: top;\n",
       "    }\n",
       "\n",
       "    .dataframe thead th {\n",
       "        text-align: right;\n",
       "    }\n",
       "</style>\n",
       "<table border=\"1\" class=\"dataframe\">\n",
       "  <thead>\n",
       "    <tr style=\"text-align: right;\">\n",
       "      <th></th>\n",
       "      <th>serial number</th>\n",
       "      <th>account_info</th>\n",
       "      <th>duration_month</th>\n",
       "      <th>credit_history</th>\n",
       "      <th>purpose</th>\n",
       "      <th>savings_account</th>\n",
       "      <th>employment_st</th>\n",
       "      <th>poi</th>\n",
       "      <th>personal_status</th>\n",
       "      <th>gurantors</th>\n",
       "      <th>resident_since</th>\n",
       "      <th>property_type</th>\n",
       "      <th>age</th>\n",
       "      <th>installment_type</th>\n",
       "      <th>housing_type</th>\n",
       "      <th>credits_no</th>\n",
       "      <th>job_type</th>\n",
       "      <th>liables</th>\n",
       "      <th>telephone</th>\n",
       "      <th>foreigner</th>\n",
       "      <th>Group_no</th>\n",
       "    </tr>\n",
       "  </thead>\n",
       "  <tbody>\n",
       "    <tr>\n",
       "      <th>0</th>\n",
       "      <td>1</td>\n",
       "      <td>A11</td>\n",
       "      <td>6</td>\n",
       "      <td>A34</td>\n",
       "      <td>A43</td>\n",
       "      <td>A65</td>\n",
       "      <td>A75</td>\n",
       "      <td>4.0</td>\n",
       "      <td>A93</td>\n",
       "      <td>A101</td>\n",
       "      <td>4</td>\n",
       "      <td>A121</td>\n",
       "      <td>67.0</td>\n",
       "      <td>A143</td>\n",
       "      <td>A152</td>\n",
       "      <td>2</td>\n",
       "      <td>A173</td>\n",
       "      <td>1</td>\n",
       "      <td>A192</td>\n",
       "      <td>A201</td>\n",
       "      <td>3</td>\n",
       "    </tr>\n",
       "    <tr>\n",
       "      <th>1</th>\n",
       "      <td>2</td>\n",
       "      <td>A12</td>\n",
       "      <td>48</td>\n",
       "      <td>A32</td>\n",
       "      <td>A43</td>\n",
       "      <td>A61</td>\n",
       "      <td>A73</td>\n",
       "      <td>2.0</td>\n",
       "      <td>A92</td>\n",
       "      <td>A101</td>\n",
       "      <td>2</td>\n",
       "      <td>A121</td>\n",
       "      <td>22.0</td>\n",
       "      <td>A143</td>\n",
       "      <td>A152</td>\n",
       "      <td>1</td>\n",
       "      <td>A173</td>\n",
       "      <td>1</td>\n",
       "      <td>A191</td>\n",
       "      <td>A201</td>\n",
       "      <td>1</td>\n",
       "    </tr>\n",
       "    <tr>\n",
       "      <th>2</th>\n",
       "      <td>3</td>\n",
       "      <td>A14</td>\n",
       "      <td>12</td>\n",
       "      <td>A34</td>\n",
       "      <td>A46</td>\n",
       "      <td>A61</td>\n",
       "      <td>A74</td>\n",
       "      <td>2.0</td>\n",
       "      <td>A93</td>\n",
       "      <td>A101</td>\n",
       "      <td>3</td>\n",
       "      <td>A121</td>\n",
       "      <td>49.0</td>\n",
       "      <td>A143</td>\n",
       "      <td>A152</td>\n",
       "      <td>1</td>\n",
       "      <td>A172</td>\n",
       "      <td>2</td>\n",
       "      <td>A191</td>\n",
       "      <td>A201</td>\n",
       "      <td>2</td>\n",
       "    </tr>\n",
       "    <tr>\n",
       "      <th>3</th>\n",
       "      <td>4</td>\n",
       "      <td>A11</td>\n",
       "      <td>42</td>\n",
       "      <td>A32</td>\n",
       "      <td>A42</td>\n",
       "      <td>A61</td>\n",
       "      <td>A74</td>\n",
       "      <td>2.0</td>\n",
       "      <td>A93</td>\n",
       "      <td>A103</td>\n",
       "      <td>4</td>\n",
       "      <td>A122</td>\n",
       "      <td>45.0</td>\n",
       "      <td>A143</td>\n",
       "      <td>A153</td>\n",
       "      <td>1</td>\n",
       "      <td>A173</td>\n",
       "      <td>2</td>\n",
       "      <td>A191</td>\n",
       "      <td>A201</td>\n",
       "      <td>1</td>\n",
       "    </tr>\n",
       "    <tr>\n",
       "      <th>4</th>\n",
       "      <td>5</td>\n",
       "      <td>A11</td>\n",
       "      <td>24</td>\n",
       "      <td>A33</td>\n",
       "      <td>A40</td>\n",
       "      <td>A61</td>\n",
       "      <td>A73</td>\n",
       "      <td>3.0</td>\n",
       "      <td>A93</td>\n",
       "      <td>A101</td>\n",
       "      <td>4</td>\n",
       "      <td>A124</td>\n",
       "      <td>53.0</td>\n",
       "      <td>A143</td>\n",
       "      <td>A153</td>\n",
       "      <td>2</td>\n",
       "      <td>A173</td>\n",
       "      <td>2</td>\n",
       "      <td>A191</td>\n",
       "      <td>A201</td>\n",
       "      <td>1</td>\n",
       "    </tr>\n",
       "  </tbody>\n",
       "</table>\n",
       "</div>"
      ],
      "text/plain": [
       "   serial number account_info  duration_month credit_history purpose  \\\n",
       "0              1          A11               6            A34     A43   \n",
       "1              2          A12              48            A32     A43   \n",
       "2              3          A14              12            A34     A46   \n",
       "3              4          A11              42            A32     A42   \n",
       "4              5          A11              24            A33     A40   \n",
       "\n",
       "  savings_account employment_st  poi personal_status gurantors  \\\n",
       "0             A65           A75  4.0             A93      A101   \n",
       "1             A61           A73  2.0             A92      A101   \n",
       "2             A61           A74  2.0             A93      A101   \n",
       "3             A61           A74  2.0             A93      A103   \n",
       "4             A61           A73  3.0             A93      A101   \n",
       "\n",
       "   resident_since property_type   age installment_type housing_type  \\\n",
       "0               4          A121  67.0             A143         A152   \n",
       "1               2          A121  22.0             A143         A152   \n",
       "2               3          A121  49.0             A143         A152   \n",
       "3               4          A122  45.0             A143         A153   \n",
       "4               4          A124  53.0             A143         A153   \n",
       "\n",
       "   credits_no job_type  liables telephone foreigner  Group_no  \n",
       "0           2     A173        1      A192      A201         3  \n",
       "1           1     A173        1      A191      A201         1  \n",
       "2           1     A172        2      A191      A201         2  \n",
       "3           1     A173        2      A191      A201         1  \n",
       "4           2     A173        2      A191      A201         1  "
      ]
     },
     "execution_count": 4,
     "metadata": {},
     "output_type": "execute_result"
    }
   ],
   "source": [
    "train_df.head()"
   ]
  },
  {
   "cell_type": "code",
   "execution_count": 5,
   "id": "d5a92930",
   "metadata": {},
   "outputs": [
    {
     "name": "stdout",
     "output_type": "stream",
     "text": [
      "<class 'pandas.core.frame.DataFrame'>\n",
      "RangeIndex: 800 entries, 0 to 799\n",
      "Data columns (total 21 columns):\n",
      " #   Column            Non-Null Count  Dtype  \n",
      "---  ------            --------------  -----  \n",
      " 0   serial number     800 non-null    int64  \n",
      " 1   account_info      800 non-null    object \n",
      " 2   duration_month    800 non-null    int64  \n",
      " 3   credit_history    800 non-null    object \n",
      " 4   purpose           800 non-null    object \n",
      " 5   savings_account   800 non-null    object \n",
      " 6   employment_st     792 non-null    object \n",
      " 7   poi               788 non-null    float64\n",
      " 8   personal_status   800 non-null    object \n",
      " 9   gurantors         792 non-null    object \n",
      " 10  resident_since    800 non-null    int64  \n",
      " 11  property_type     800 non-null    object \n",
      " 12  age               796 non-null    float64\n",
      " 13  installment_type  800 non-null    object \n",
      " 14  housing_type      793 non-null    object \n",
      " 15  credits_no        800 non-null    int64  \n",
      " 16  job_type          800 non-null    object \n",
      " 17  liables           800 non-null    int64  \n",
      " 18  telephone         800 non-null    object \n",
      " 19  foreigner         800 non-null    object \n",
      " 20  Group_no          800 non-null    int64  \n",
      "dtypes: float64(2), int64(6), object(13)\n",
      "memory usage: 131.4+ KB\n"
     ]
    }
   ],
   "source": [
    "#Checking for datatype of columns and other info\n",
    "train_df.info()"
   ]
  },
  {
   "cell_type": "code",
   "execution_count": 6,
   "id": "dfe8328e",
   "metadata": {},
   "outputs": [
    {
     "data": {
      "text/plain": [
       "serial number        0\n",
       "account_info         0\n",
       "duration_month       0\n",
       "credit_history       0\n",
       "purpose              0\n",
       "savings_account      0\n",
       "employment_st        8\n",
       "poi                 12\n",
       "personal_status      0\n",
       "gurantors            8\n",
       "resident_since       0\n",
       "property_type        0\n",
       "age                  4\n",
       "installment_type     0\n",
       "housing_type         7\n",
       "credits_no           0\n",
       "job_type             0\n",
       "liables              0\n",
       "telephone            0\n",
       "foreigner            0\n",
       "Group_no             0\n",
       "dtype: int64"
      ]
     },
     "execution_count": 6,
     "metadata": {},
     "output_type": "execute_result"
    }
   ],
   "source": [
    "#Checking for NULL values\n",
    "train_df.isnull().sum()"
   ]
  },
  {
   "cell_type": "code",
   "execution_count": 7,
   "id": "a1bea04b",
   "metadata": {},
   "outputs": [],
   "source": [
    "#Deleting rows with null values\n",
    "train_df=train_df.dropna()"
   ]
  },
  {
   "cell_type": "code",
   "execution_count": 8,
   "id": "86d7b5f7",
   "metadata": {},
   "outputs": [
    {
     "data": {
      "text/plain": [
       "serial number       0\n",
       "account_info        0\n",
       "duration_month      0\n",
       "credit_history      0\n",
       "purpose             0\n",
       "savings_account     0\n",
       "employment_st       0\n",
       "poi                 0\n",
       "personal_status     0\n",
       "gurantors           0\n",
       "resident_since      0\n",
       "property_type       0\n",
       "age                 0\n",
       "installment_type    0\n",
       "housing_type        0\n",
       "credits_no          0\n",
       "job_type            0\n",
       "liables             0\n",
       "telephone           0\n",
       "foreigner           0\n",
       "Group_no            0\n",
       "dtype: int64"
      ]
     },
     "execution_count": 8,
     "metadata": {},
     "output_type": "execute_result"
    }
   ],
   "source": [
    "#Finally rows with no null values\n",
    "train_df.isnull().sum()"
   ]
  },
  {
   "cell_type": "markdown",
   "id": "07ab56c5",
   "metadata": {},
   "source": [
    "# Statistical Analysis And Univariate Analysis of Each Variable"
   ]
  },
  {
   "cell_type": "markdown",
   "id": "23689bc1",
   "metadata": {},
   "source": [
    "I have performed ANNOVA test for those columns which are continous and Chi-Square tests for those columns which are categorical to find out if a particular column has an important say in predicting the the group no.I have dropped all those columns whose p>0.05(indicating that a particular has little or no predictive power) "
   ]
  },
  {
   "cell_type": "code",
   "execution_count": 9,
   "id": "fbf0ff37",
   "metadata": {},
   "outputs": [],
   "source": [
    "#Group_no(Target variable)"
   ]
  },
  {
   "cell_type": "code",
   "execution_count": 10,
   "id": "0dcef2fc",
   "metadata": {},
   "outputs": [
    {
     "data": {
      "text/plain": [
       "2    335\n",
       "3    236\n",
       "1    190\n",
       "Name: Group_no, dtype: int64"
      ]
     },
     "execution_count": 10,
     "metadata": {},
     "output_type": "execute_result"
    }
   ],
   "source": [
    "train_df['Group_no'].value_counts()"
   ]
  },
  {
   "cell_type": "code",
   "execution_count": 11,
   "id": "b6e48dcc",
   "metadata": {},
   "outputs": [
    {
     "data": {
      "text/plain": [
       "<function matplotlib.pyplot.show(close=None, block=None)>"
      ]
     },
     "execution_count": 11,
     "metadata": {},
     "output_type": "execute_result"
    },
    {
     "data": {
      "image/png": "[encoded data removed]",
      "text/plain": [
       "<Figure size 432x432 with 1 Axes>"
      ]
     },
     "metadata": {},
     "output_type": "display_data"
    }
   ],
   "source": [
    "sns.set()\n",
    "plt.figure(figsize=(6,6))\n",
    "sns.countplot(train_df['Group_no'])\n",
    "plt.title('Barplot of Group_no')\n",
    "plt.show"
   ]
  },
  {
   "cell_type": "markdown",
   "id": "6a150c59",
   "metadata": {},
   "source": [
    "#There is under representation of certain groups hence we will use SMOTE to balance the data before fitting it into the model\n"
   ]
  },
  {
   "cell_type": "code",
   "execution_count": 12,
   "id": "86dac2f7",
   "metadata": {},
   "outputs": [],
   "source": [
    "#account_info(ordered)"
   ]
  },
  {
   "cell_type": "code",
   "execution_count": 13,
   "id": "40035ad8",
   "metadata": {},
   "outputs": [
    {
     "data": {
      "text/plain": [
       "A14    290\n",
       "A12    220\n",
       "A11    199\n",
       "A13     52\n",
       "Name: account_info, dtype: int64"
      ]
     },
     "execution_count": 13,
     "metadata": {},
     "output_type": "execute_result"
    }
   ],
   "source": [
    "train_df['account_info'].value_counts()"
   ]
  },
  {
   "cell_type": "code",
   "execution_count": 14,
   "id": "904ac16f",
   "metadata": {},
   "outputs": [
    {
     "data": {
      "text/plain": [
       "<function matplotlib.pyplot.show(close=None, block=None)>"
      ]
     },
     "execution_count": 14,
     "metadata": {},
     "output_type": "execute_result"
    },
    {
     "data": {
      "image/png": "[encoded data removed]",
      "text/plain": [
       "<Figure size 432x432 with 1 Axes>"
      ]
     },
     "metadata": {},
     "output_type": "display_data"
    }
   ],
   "source": [
    "sns.set()\n",
    "plt.figure(figsize=(6,6))\n",
    "sns.countplot(train_df['account_info'])\n",
    "plt.title('Histogram of account_info') \n",
    "plt.show"
   ]
  },
  {
   "cell_type": "code",
   "execution_count": 15,
   "id": "f1a1d0c7",
   "metadata": {},
   "outputs": [
    {
     "data": {
      "text/plain": [
       "(17.398912675595437,\n",
       " 0.007923750586760361,\n",
       " 6,\n",
       " array([[ 49.68462549,  54.92772668,  12.98291721,  72.40473062],\n",
       "        [ 87.60183968,  96.84625493,  22.89093298, 127.6609724 ],\n",
       "        [ 61.71353482,  68.2260184 ,  16.1261498 ,  89.93429698]]))"
      ]
     },
     "execution_count": 15,
     "metadata": {},
     "output_type": "execute_result"
    }
   ],
   "source": [
    "#is it a good predictor?\n",
    "#chi-square\n",
    "ct_job = pd.crosstab(train_df.Group_no, train_df.account_info)\n",
    "chi2_contingency(ct_job, correction = False)#good predictor\n"
   ]
  },
  {
   "cell_type": "code",
   "execution_count": 16,
   "id": "af662891",
   "metadata": {},
   "outputs": [],
   "source": [
    "#duration_month(numerical)"
   ]
  },
  {
   "cell_type": "code",
   "execution_count": 17,
   "id": "36339575",
   "metadata": {},
   "outputs": [
    {
     "data": {
      "text/plain": [
       "24    137\n",
       "12    136\n",
       "18     90\n",
       "6      63\n",
       "36     60\n",
       "15     44\n",
       "9      39\n",
       "48     38\n",
       "30     28\n",
       "10     24\n",
       "21     22\n",
       "60     11\n",
       "27     10\n",
       "42      8\n",
       "20      5\n",
       "8       5\n",
       "11      5\n",
       "7       5\n",
       "14      4\n",
       "4       4\n",
       "39      4\n",
       "33      3\n",
       "13      3\n",
       "45      2\n",
       "54      2\n",
       "22      2\n",
       "5       1\n",
       "72      1\n",
       "26      1\n",
       "47      1\n",
       "28      1\n",
       "16      1\n",
       "40      1\n",
       "Name: duration_month, dtype: int64"
      ]
     },
     "execution_count": 17,
     "metadata": {},
     "output_type": "execute_result"
    }
   ],
   "source": [
    "train_df['duration_month'].value_counts()"
   ]
  },
  {
   "cell_type": "code",
   "execution_count": 18,
   "id": "60a3b7f9",
   "metadata": {},
   "outputs": [
    {
     "data": {
      "text/plain": [
       "<function matplotlib.pyplot.show(close=None, block=None)>"
      ]
     },
     "execution_count": 18,
     "metadata": {},
     "output_type": "execute_result"
    },
    {
     "data": {
      "image/png": "[encoded data removed]",
      "text/plain": [
       "<Figure size 432x432 with 1 Axes>"
      ]
     },
     "metadata": {},
     "output_type": "display_data"
    }
   ],
   "source": [
    "sns.set()\n",
    "plt.figure(figsize=(6,6))\n",
    "sns.distplot(train_df['duration_month'])\n",
    "plt.title('Distplot of duration_month') \n",
    "plt.show"
   ]
  },
  {
   "cell_type": "code",
   "execution_count": 19,
   "id": "c40fca61",
   "metadata": {},
   "outputs": [
    {
     "data": {
      "text/plain": [
       "<AxesSubplot:>"
      ]
     },
     "execution_count": 19,
     "metadata": {},
     "output_type": "execute_result"
    },
    {
     "data": {
      "image/png": "[encoded data removed]",
      "text/plain": [
       "<Figure size 432x288 with 1 Axes>"
      ]
     },
     "metadata": {},
     "output_type": "display_data"
    }
   ],
   "source": [
    "duration_month=train_df['duration_month']\n",
    "props2= dict(boxes='red',whiskers='black',medians='blue',caps='green')\n",
    "duration_month.plot.box(color=props2,patch_artist=True,vert=True)"
   ]
  },
  {
   "cell_type": "markdown",
   "id": "7575f222",
   "metadata": {},
   "source": [
    "As you can see from above box plot,there are some outliers present in the feature.It is important to handel them for better accuracy of the model.Hence,I will be capping the outliers using IQR method. (I have Capped the otliers for all the features whereever outliers are present)  "
   ]
  },
  {
   "cell_type": "code",
   "execution_count": 20,
   "id": "1e3309ba",
   "metadata": {},
   "outputs": [],
   "source": [
    "def find_boundaries(df,feature):\n",
    "    Q1=df[feature].quantile(.25)\n",
    "    Q3=df[feature].quantile(.75)\n",
    "    IQR=Q3-Q1\n",
    "    lower_boundary=Q1-1.5*IQR\n",
    "    upper_boundary=Q3+1.5*IQR\n",
    "    \n",
    "    return lower_boundary,upper_boundary"
   ]
  },
  {
   "cell_type": "code",
   "execution_count": 21,
   "id": "dce9b72e",
   "metadata": {},
   "outputs": [],
   "source": [
    "def find_outliers_IQR(df):\n",
    "\n",
    "   q1=df.quantile(0.25)\n",
    "\n",
    "   q3=df.quantile(0.75)\n",
    "\n",
    "   IQR=q3-q1\n",
    "\n",
    "   outliers = df[((df<(q1-1.5*IQR)) | (df>(q3+1.5*IQR)))]\n",
    "\n",
    "   return outliers"
   ]
  },
  {
   "cell_type": "code",
   "execution_count": 22,
   "id": "db0467f2",
   "metadata": {},
   "outputs": [],
   "source": [
    "def remove_outlier(df_in,feature):\n",
    "    Q1=df_in[feature].quantile(.25)\n",
    "    Q3=df_in[feature].quantile(.75)\n",
    "    IQR=Q3-Q1\n",
    "    lower_boundary=Q1-1.5*IQR\n",
    "    upper_boundary=Q3+1.5*IQR\n",
    "    df_out=df_in.loc[(df_in[feature]>lower_boundary) & (df_in[feature]<upper_boundary)]\n",
    "    \n",
    "    return df_out"
   ]
  },
  {
   "cell_type": "code",
   "execution_count": 23,
   "id": "12aaded0",
   "metadata": {},
   "outputs": [
    {
     "name": "stdout",
     "output_type": "stream",
     "text": [
      "-6.0 42.0\n"
     ]
    }
   ],
   "source": [
    "lower_duration_month,upper_duration_month=find_boundaries(train_df,'duration_month')\n",
    "print(lower_duration_month,upper_duration_month)"
   ]
  },
  {
   "cell_type": "code",
   "execution_count": 24,
   "id": "cf8fd128",
   "metadata": {},
   "outputs": [
    {
     "name": "stdout",
     "output_type": "stream",
     "text": [
      "number of outliers: 55\n"
     ]
    }
   ],
   "source": [
    "outliers = find_outliers_IQR(train_df['duration_month'])\n",
    "print('number of outliers: '+ str(len(outliers)))"
   ]
  },
  {
   "cell_type": "code",
   "execution_count": 25,
   "id": "210b4ccb",
   "metadata": {},
   "outputs": [],
   "source": [
    "train_df['duration_month']=np.where(train_df['duration_month']>upper_duration_month,upper_duration_month,\n",
    "                         np.where(train_df['duration_month']<lower_duration_month,lower_duration_month,train_df['duration_month']))"
   ]
  },
  {
   "cell_type": "code",
   "execution_count": 26,
   "id": "72fa739c",
   "metadata": {},
   "outputs": [
    {
     "data": {
      "text/plain": [
       "<AxesSubplot:>"
      ]
     },
     "execution_count": 26,
     "metadata": {},
     "output_type": "execute_result"
    },
    {
     "data": {
      "image/png": "[encoded data removed]",
      "text/plain": [
       "<Figure size 432x288 with 1 Axes>"
      ]
     },
     "metadata": {},
     "output_type": "display_data"
    }
   ],
   "source": [
    "duration_month=train_df['duration_month']\n",
    "props2= dict(boxes='red',whiskers='black',medians='blue',caps='green')\n",
    "duration_month.plot.box(color=props2,patch_artist=True,vert=True)"
   ]
  },
  {
   "cell_type": "code",
   "execution_count": 27,
   "id": "aec7bc87",
   "metadata": {},
   "outputs": [
    {
     "name": "stdout",
     "output_type": "stream",
     "text": [
      "               sum_sq     df          F  PR(>F)\n",
      "Group_no  31529.95980    1.0  431.71308     0.0\n",
      "Residual  55433.20446  759.0        NaN     NaN\n"
     ]
    }
   ],
   "source": [
    "#is it a good predictor?\n",
    "#Annova\n",
    "annova=ols('duration_month ~ Group_no',data=train_df).fit()\n",
    "an=sm.stats.anova_lm(annova,typ=2)\n",
    "print(an.round(decimals=5)) #good predictor"
   ]
  },
  {
   "cell_type": "code",
   "execution_count": 28,
   "id": "f33cf356",
   "metadata": {},
   "outputs": [],
   "source": [
    "#credit_history(Categorical)"
   ]
  },
  {
   "cell_type": "code",
   "execution_count": 29,
   "id": "9abd3be5",
   "metadata": {},
   "outputs": [
    {
     "data": {
      "text/plain": [
       "A32    400\n",
       "A34    227\n",
       "A33     70\n",
       "A31     33\n",
       "A30     31\n",
       "Name: credit_history, dtype: int64"
      ]
     },
     "execution_count": 29,
     "metadata": {},
     "output_type": "execute_result"
    }
   ],
   "source": [
    "train_df['credit_history'].value_counts()"
   ]
  },
  {
   "cell_type": "code",
   "execution_count": 30,
   "id": "cb7b2c38",
   "metadata": {},
   "outputs": [
    {
     "data": {
      "text/plain": [
       "<function matplotlib.pyplot.show(close=None, block=None)>"
      ]
     },
     "execution_count": 30,
     "metadata": {},
     "output_type": "execute_result"
    },
    {
     "data": {
      "image/png": "[encoded data removed]",
      "text/plain": [
       "<Figure size 432x432 with 1 Axes>"
      ]
     },
     "metadata": {},
     "output_type": "display_data"
    }
   ],
   "source": [
    "sns.set()\n",
    "plt.figure(figsize=(6,6))\n",
    "sns.countplot(train_df['credit_history'])\n",
    "plt.title('Histogram of credit_history') \n",
    "plt.show"
   ]
  },
  {
   "cell_type": "code",
   "execution_count": 31,
   "id": "ba7d27c2",
   "metadata": {},
   "outputs": [
    {
     "data": {
      "text/plain": [
       "(33.311024491313276,\n",
       " 5.412633986820866e-05,\n",
       " 8,\n",
       " array([[  7.73981603,   8.239159  ,  99.86859396,  17.47700394,\n",
       "          56.67542707],\n",
       "        [ 13.64651774,  14.52693824, 176.08409987,  30.81471748,\n",
       "          99.92772668],\n",
       "        [  9.61366623,  10.23390276, 124.04730618,  21.70827858,\n",
       "          70.39684625]]))"
      ]
     },
     "execution_count": 31,
     "metadata": {},
     "output_type": "execute_result"
    }
   ],
   "source": [
    "#is it a good predictor?\n",
    "#chi-square\n",
    "ct_job = pd.crosstab(train_df.Group_no, train_df.credit_history)\n",
    "chi2_contingency(ct_job, correction = False)#good predictor"
   ]
  },
  {
   "cell_type": "code",
   "execution_count": 32,
   "id": "f02fba04",
   "metadata": {},
   "outputs": [],
   "source": [
    "#purpose(Categorical)"
   ]
  },
  {
   "cell_type": "code",
   "execution_count": 33,
   "id": "57761db1",
   "metadata": {},
   "outputs": [
    {
     "data": {
      "text/plain": [
       "A43     209\n",
       "A40     176\n",
       "A42     140\n",
       "A41      78\n",
       "A49      74\n",
       "A46      42\n",
       "A45      19\n",
       "A410     10\n",
       "A44       8\n",
       "A48       5\n",
       "Name: purpose, dtype: int64"
      ]
     },
     "execution_count": 33,
     "metadata": {},
     "output_type": "execute_result"
    }
   ],
   "source": [
    "train_df['purpose'].value_counts()"
   ]
  },
  {
   "cell_type": "code",
   "execution_count": 34,
   "id": "9bcaa6e3",
   "metadata": {},
   "outputs": [
    {
     "data": {
      "text/plain": [
       "<function matplotlib.pyplot.show(close=None, block=None)>"
      ]
     },
     "execution_count": 34,
     "metadata": {},
     "output_type": "execute_result"
    },
    {
     "data": {
      "image/png": "[encoded data removed]",
      "text/plain": [
       "<Figure size 432x432 with 1 Axes>"
      ]
     },
     "metadata": {},
     "output_type": "display_data"
    }
   ],
   "source": [
    "sns.set()\n",
    "plt.figure(figsize=(6,6))\n",
    "sns.countplot(train_df['purpose'])\n",
    "plt.title('Histogram of purpose') \n",
    "plt.show"
   ]
  },
  {
   "cell_type": "code",
   "execution_count": 35,
   "id": "747a6edb",
   "metadata": {},
   "outputs": [
    {
     "data": {
      "text/plain": [
       "(132.02201970287447,\n",
       " 2.1792445715980387e-19,\n",
       " 18,\n",
       " array([[43.94218134, 19.47437582,  2.49671485, 34.95400788, 52.18134034,\n",
       "          1.99737188,  4.74375821, 10.48620237,  1.24835742, 18.47568988],\n",
       "        [77.47700394, 34.33639947,  4.4021025 , 61.62943495, 92.00394218,\n",
       "          3.521682  ,  8.36399474, 18.48883049,  2.20105125, 32.57555848],\n",
       "        [54.58081472, 24.1892247 ,  3.10118265, 43.41655716, 64.81471748,\n",
       "          2.48094612,  5.89224704, 13.02496715,  1.55059133, 22.94875164]]))"
      ]
     },
     "execution_count": 35,
     "metadata": {},
     "output_type": "execute_result"
    }
   ],
   "source": [
    "#is it a good predictor?\n",
    "#chi-square\n",
    "ct_job = pd.crosstab(train_df.Group_no, train_df.purpose)\n",
    "chi2_contingency(ct_job, correction = False)#good predictor"
   ]
  },
  {
   "cell_type": "code",
   "execution_count": 36,
   "id": "7475845c",
   "metadata": {},
   "outputs": [],
   "source": [
    "#savings_account(ordered)"
   ]
  },
  {
   "cell_type": "code",
   "execution_count": 37,
   "id": "aa424b3d",
   "metadata": {},
   "outputs": [
    {
     "data": {
      "text/plain": [
       "A61    453\n",
       "A65    137\n",
       "A62     86\n",
       "A63     46\n",
       "A64     39\n",
       "Name: savings_account, dtype: int64"
      ]
     },
     "execution_count": 37,
     "metadata": {},
     "output_type": "execute_result"
    }
   ],
   "source": [
    "train_df['savings_account'].value_counts()"
   ]
  },
  {
   "cell_type": "code",
   "execution_count": 38,
   "id": "a18da92a",
   "metadata": {},
   "outputs": [
    {
     "data": {
      "text/plain": [
       "<function matplotlib.pyplot.show(close=None, block=None)>"
      ]
     },
     "execution_count": 38,
     "metadata": {},
     "output_type": "execute_result"
    },
    {
     "data": {
      "image/png": "[encoded data removed]",
      "text/plain": [
       "<Figure size 432x432 with 1 Axes>"
      ]
     },
     "metadata": {},
     "output_type": "display_data"
    }
   ],
   "source": [
    "sns.set()\n",
    "plt.figure(figsize=(6,6))\n",
    "sns.countplot(train_df['savings_account'])\n",
    "plt.title('Histogram of savings_account') \n",
    "plt.show"
   ]
  },
  {
   "cell_type": "code",
   "execution_count": 39,
   "id": "d7266614",
   "metadata": {},
   "outputs": [
    {
     "data": {
      "text/plain": [
       "(17.05024576511371,\n",
       " 0.029590106583568275,\n",
       " 8,\n",
       " array([[113.10118265,  21.4717477 ,  11.4848883 ,   9.73718791,\n",
       "          34.20499343],\n",
       "        [199.4152431 ,  37.85808147,  20.24967148,  17.16819974,\n",
       "          60.3088042 ],\n",
       "        [140.48357424,  26.67017083,  14.26544021,  12.09461235,\n",
       "          42.48620237]]))"
      ]
     },
     "execution_count": 39,
     "metadata": {},
     "output_type": "execute_result"
    }
   ],
   "source": [
    "#is it a good predictor?\n",
    "#chi-square\n",
    "ct_job = pd.crosstab(train_df.Group_no,train_df.savings_account)\n",
    "chi2_contingency(ct_job, correction = False)#good predictor"
   ]
  },
  {
   "cell_type": "code",
   "execution_count": 40,
   "id": "f4db9b89",
   "metadata": {},
   "outputs": [],
   "source": [
    "#employment_st(ordered)"
   ]
  },
  {
   "cell_type": "code",
   "execution_count": 41,
   "id": "7d788675",
   "metadata": {},
   "outputs": [
    {
     "data": {
      "text/plain": [
       "A73    254\n",
       "A75    193\n",
       "A74    138\n",
       "A72    128\n",
       "A71     48\n",
       "Name: employment_st, dtype: int64"
      ]
     },
     "execution_count": 41,
     "metadata": {},
     "output_type": "execute_result"
    }
   ],
   "source": [
    "train_df['employment_st'].value_counts()"
   ]
  },
  {
   "cell_type": "code",
   "execution_count": 42,
   "id": "ef8a4181",
   "metadata": {},
   "outputs": [
    {
     "data": {
      "text/plain": [
       "<function matplotlib.pyplot.show(close=None, block=None)>"
      ]
     },
     "execution_count": 42,
     "metadata": {},
     "output_type": "execute_result"
    },
    {
     "data": {
      "image/png": "[encoded data removed]",
      "text/plain": [
       "<Figure size 432x432 with 1 Axes>"
      ]
     },
     "metadata": {},
     "output_type": "display_data"
    }
   ],
   "source": [
    "sns.set()\n",
    "plt.figure(figsize=(6,6))\n",
    "sns.countplot(train_df['employment_st'])\n",
    "plt.title('Histogram of employment_st') \n",
    "plt.show"
   ]
  },
  {
   "cell_type": "code",
   "execution_count": 43,
   "id": "5ea14de1",
   "metadata": {},
   "outputs": [
    {
     "data": {
      "text/plain": [
       "(7.386355357196549,\n",
       " 0.4955781168943669,\n",
       " 8,\n",
       " array([[ 11.98423127,  31.95795007,  63.41655716,  34.45466491,\n",
       "          48.18659658],\n",
       "        [ 21.13009198,  56.34691196, 111.81340342,  60.74901445,\n",
       "          84.96057819],\n",
       "        [ 14.88567674,  39.69513798,  78.77003942,  42.79632063,\n",
       "          59.85282523]]))"
      ]
     },
     "execution_count": 43,
     "metadata": {},
     "output_type": "execute_result"
    }
   ],
   "source": [
    "#is it a good predictor?\n",
    "#chi-square\n",
    "ct_job=pd.crosstab(train_df.Group_no, train_df.employment_st)\n",
    "chi2_contingency(ct_job, correction = False) #bad predictor"
   ]
  },
  {
   "cell_type": "code",
   "execution_count": 44,
   "id": "ea91f312",
   "metadata": {},
   "outputs": [],
   "source": [
    "train_df= train_df.drop(['employment_st'], axis=1)"
   ]
  },
  {
   "cell_type": "code",
   "execution_count": 45,
   "id": "207db215",
   "metadata": {},
   "outputs": [],
   "source": [
    "#poi(ordered)"
   ]
  },
  {
   "cell_type": "code",
   "execution_count": 46,
   "id": "f298ac31",
   "metadata": {},
   "outputs": [
    {
     "data": {
      "text/plain": [
       "4.0    349\n",
       "2.0    182\n",
       "3.0    118\n",
       "1.0    112\n",
       "Name: poi, dtype: int64"
      ]
     },
     "execution_count": 46,
     "metadata": {},
     "output_type": "execute_result"
    }
   ],
   "source": [
    "train_df['poi'].value_counts()"
   ]
  },
  {
   "cell_type": "code",
   "execution_count": 47,
   "id": "47a54bc2",
   "metadata": {},
   "outputs": [
    {
     "data": {
      "text/plain": [
       "<function matplotlib.pyplot.show(close=None, block=None)>"
      ]
     },
     "execution_count": 47,
     "metadata": {},
     "output_type": "execute_result"
    },
    {
     "data": {
      "image/png": "[encoded data removed]",
      "text/plain": [
       "<Figure size 432x432 with 1 Axes>"
      ]
     },
     "metadata": {},
     "output_type": "display_data"
    }
   ],
   "source": [
    "sns.set()\n",
    "plt.figure(figsize=(6,6))\n",
    "sns.countplot(train_df['poi'])\n",
    "plt.title('Histogram of poi') \n",
    "plt.show"
   ]
  },
  {
   "cell_type": "code",
   "execution_count": 48,
   "id": "ed09f417",
   "metadata": {},
   "outputs": [
    {
     "data": {
      "text/plain": [
       "(54.18885842154453,\n",
       " 6.757704780621192e-10,\n",
       " 6,\n",
       " array([[ 27.96320631,  45.44021025,  29.46123522,  87.13534823],\n",
       "        [ 49.30354796,  80.11826544,  51.94480946, 153.63337714],\n",
       "        [ 34.73324573,  56.44152431,  36.59395532, 108.23127464]]))"
      ]
     },
     "execution_count": 48,
     "metadata": {},
     "output_type": "execute_result"
    }
   ],
   "source": [
    "#is it a good predictor?\n",
    "#chi-square\n",
    "ct_job = pd.crosstab(train_df.Group_no, train_df.poi)\n",
    "chi2_contingency(ct_job, correction = False) #good predictor"
   ]
  },
  {
   "cell_type": "code",
   "execution_count": 49,
   "id": "7081ec7a",
   "metadata": {},
   "outputs": [],
   "source": [
    "#personal_status(categorical)"
   ]
  },
  {
   "cell_type": "code",
   "execution_count": 50,
   "id": "ec6f6ff5",
   "metadata": {},
   "outputs": [
    {
     "data": {
      "text/plain": [
       "A93    419\n",
       "A92    243\n",
       "A94     66\n",
       "A91     33\n",
       "Name: personal_status, dtype: int64"
      ]
     },
     "execution_count": 50,
     "metadata": {},
     "output_type": "execute_result"
    }
   ],
   "source": [
    "train_df['personal_status'].value_counts()"
   ]
  },
  {
   "cell_type": "code",
   "execution_count": 51,
   "id": "1549a651",
   "metadata": {},
   "outputs": [
    {
     "data": {
      "text/plain": [
       "<function matplotlib.pyplot.show(close=None, block=None)>"
      ]
     },
     "execution_count": 51,
     "metadata": {},
     "output_type": "execute_result"
    },
    {
     "data": {
      "image/png": "[encoded data removed]",
      "text/plain": [
       "<Figure size 432x432 with 1 Axes>"
      ]
     },
     "metadata": {},
     "output_type": "display_data"
    }
   ],
   "source": [
    "sns.set()\n",
    "plt.figure(figsize=(6,6))\n",
    "sns.countplot(train_df['personal_status'])\n",
    "plt.title('Histogram of personal_status') \n",
    "plt.show"
   ]
  },
  {
   "cell_type": "code",
   "execution_count": 52,
   "id": "e765826b",
   "metadata": {},
   "outputs": [
    {
     "data": {
      "text/plain": [
       "(34.107583516407395,\n",
       " 6.4131235285048395e-06,\n",
       " 6,\n",
       " array([[  8.239159  ,  60.67017083, 104.61235217,  16.478318  ],\n",
       "        [ 14.52693824, 106.97109067, 184.44809461,  29.05387648],\n",
       "        [ 10.23390276,  75.3587385 , 129.93955322,  20.46780552]]))"
      ]
     },
     "execution_count": 52,
     "metadata": {},
     "output_type": "execute_result"
    }
   ],
   "source": [
    "#is it a good predictor?\n",
    "#chi-square\n",
    "ct_job = pd.crosstab(train_df.Group_no, train_df.personal_status)\n",
    "chi2_contingency(ct_job, correction = False) #good predictor"
   ]
  },
  {
   "cell_type": "code",
   "execution_count": 53,
   "id": "2b654a82",
   "metadata": {},
   "outputs": [],
   "source": [
    "#guarantors(categorical)"
   ]
  },
  {
   "cell_type": "code",
   "execution_count": 54,
   "id": "4373d39a",
   "metadata": {},
   "outputs": [
    {
     "data": {
      "text/plain": [
       "A101    689\n",
       "A103     42\n",
       "A102     30\n",
       "Name: gurantors, dtype: int64"
      ]
     },
     "execution_count": 54,
     "metadata": {},
     "output_type": "execute_result"
    }
   ],
   "source": [
    "train_df['gurantors'].value_counts()"
   ]
  },
  {
   "cell_type": "code",
   "execution_count": 55,
   "id": "0f0fc1e4",
   "metadata": {},
   "outputs": [
    {
     "data": {
      "text/plain": [
       "<function matplotlib.pyplot.show(close=None, block=None)>"
      ]
     },
     "execution_count": 55,
     "metadata": {},
     "output_type": "execute_result"
    },
    {
     "data": {
      "image/png": "[encoded data removed]",
      "text/plain": [
       "<Figure size 432x432 with 1 Axes>"
      ]
     },
     "metadata": {},
     "output_type": "display_data"
    }
   ],
   "source": [
    "sns.set()\n",
    "plt.figure(figsize=(6,6))\n",
    "sns.countplot(train_df['gurantors'])\n",
    "plt.title('Histogram of gurantors') \n",
    "plt.show"
   ]
  },
  {
   "cell_type": "code",
   "execution_count": 56,
   "id": "c9a6735c",
   "metadata": {},
   "outputs": [
    {
     "data": {
      "text/plain": [
       "(8.755788235254755,\n",
       " 0.06750205426360173,\n",
       " 4,\n",
       " array([[172.02365309,   7.49014455,  10.48620237],\n",
       "        [303.30486202,  13.20630749,  18.48883049],\n",
       "        [213.67148489,   9.30354796,  13.02496715]]))"
      ]
     },
     "execution_count": 56,
     "metadata": {},
     "output_type": "execute_result"
    }
   ],
   "source": [
    "#is it a good predictor?\n",
    "#chi-square\n",
    "ct_job = pd.crosstab(train_df.Group_no, train_df.gurantors)\n",
    "chi2_contingency(ct_job, correction = False) #bad predictor"
   ]
  },
  {
   "cell_type": "code",
   "execution_count": 57,
   "id": "e0c7d212",
   "metadata": {},
   "outputs": [],
   "source": [
    "train_df= train_df.drop(['gurantors'], axis=1)"
   ]
  },
  {
   "cell_type": "code",
   "execution_count": 58,
   "id": "a7cb1c97",
   "metadata": {},
   "outputs": [],
   "source": [
    "#resident_since(categorical)"
   ]
  },
  {
   "cell_type": "code",
   "execution_count": 59,
   "id": "3811334b",
   "metadata": {},
   "outputs": [
    {
     "data": {
      "text/plain": [
       "4    318\n",
       "2    224\n",
       "3    116\n",
       "1    103\n",
       "Name: resident_since, dtype: int64"
      ]
     },
     "execution_count": 59,
     "metadata": {},
     "output_type": "execute_result"
    }
   ],
   "source": [
    "train_df['resident_since'].value_counts()"
   ]
  },
  {
   "cell_type": "code",
   "execution_count": 60,
   "id": "17e2b95c",
   "metadata": {},
   "outputs": [
    {
     "data": {
      "text/plain": [
       "<function matplotlib.pyplot.show(close=None, block=None)>"
      ]
     },
     "execution_count": 60,
     "metadata": {},
     "output_type": "execute_result"
    },
    {
     "data": {
      "image/png": "[encoded data removed]",
      "text/plain": [
       "<Figure size 432x432 with 1 Axes>"
      ]
     },
     "metadata": {},
     "output_type": "display_data"
    }
   ],
   "source": [
    "sns.set()\n",
    "plt.figure(figsize=(6,6))\n",
    "sns.countplot(train_df['resident_since'])\n",
    "plt.title('Distplot of resident_since') \n",
    "plt.show"
   ]
  },
  {
   "cell_type": "code",
   "execution_count": 61,
   "id": "9f9d3e95",
   "metadata": {},
   "outputs": [
    {
     "data": {
      "text/plain": [
       "(5.972542955774193,\n",
       " 0.4262728708046929,\n",
       " 6,\n",
       " array([[ 25.71616294,  55.92641261,  28.96189225,  79.39553219],\n",
       "        [ 45.34165572,  98.60709593,  51.06438896, 139.9868594 ],\n",
       "        [ 31.94218134,  69.46649146,  35.97371879,  98.61760841]]))"
      ]
     },
     "execution_count": 61,
     "metadata": {},
     "output_type": "execute_result"
    }
   ],
   "source": [
    "#is it a good predictor?\n",
    "#chi-square\n",
    "ct_job = pd.crosstab(train_df.Group_no, train_df.resident_since)\n",
    "chi2_contingency(ct_job, correction = False) #bad predictor"
   ]
  },
  {
   "cell_type": "code",
   "execution_count": 62,
   "id": "fc58ea29",
   "metadata": {},
   "outputs": [],
   "source": [
    "train_df= train_df.drop(['resident_since'], axis=1)"
   ]
  },
  {
   "cell_type": "code",
   "execution_count": 63,
   "id": "2fecf657",
   "metadata": {},
   "outputs": [],
   "source": [
    "#property_type(Categorical)"
   ]
  },
  {
   "cell_type": "code",
   "execution_count": 64,
   "id": "54421ebf",
   "metadata": {},
   "outputs": [
    {
     "data": {
      "text/plain": [
       "A123    252\n",
       "A121    217\n",
       "A122    169\n",
       "A124    123\n",
       "Name: property_type, dtype: int64"
      ]
     },
     "execution_count": 64,
     "metadata": {},
     "output_type": "execute_result"
    }
   ],
   "source": [
    "train_df['property_type'].value_counts()"
   ]
  },
  {
   "cell_type": "code",
   "execution_count": 65,
   "id": "708c4178",
   "metadata": {},
   "outputs": [
    {
     "data": {
      "text/plain": [
       "<function matplotlib.pyplot.show(close=None, block=None)>"
      ]
     },
     "execution_count": 65,
     "metadata": {},
     "output_type": "execute_result"
    },
    {
     "data": {
      "image/png": "[encoded data removed]",
      "text/plain": [
       "<Figure size 432x432 with 1 Axes>"
      ]
     },
     "metadata": {},
     "output_type": "display_data"
    }
   ],
   "source": [
    "sns.set()\n",
    "plt.figure(figsize=(6,6))\n",
    "sns.countplot(train_df['property_type'])\n",
    "plt.title('Distplot of property_type') \n",
    "plt.show"
   ]
  },
  {
   "cell_type": "code",
   "execution_count": 66,
   "id": "0f5db889",
   "metadata": {},
   "outputs": [
    {
     "data": {
      "text/plain": [
       "(87.54056201860142,\n",
       " 9.816908660314244e-17,\n",
       " 6,\n",
       " array([[ 54.17871222,  42.19448095,  62.91721419,  30.70959264],\n",
       "        [ 95.52562418,  74.39553219, 110.93298292,  54.14586071],\n",
       "        [ 67.2956636 ,  52.40998686,  78.14980289,  38.14454665]]))"
      ]
     },
     "execution_count": 66,
     "metadata": {},
     "output_type": "execute_result"
    }
   ],
   "source": [
    "#is it a good predictor?\n",
    "#chi-square\n",
    "ct_job = pd.crosstab(train_df.Group_no, train_df.property_type)\n",
    "chi2_contingency(ct_job, correction = False) #good predictor"
   ]
  },
  {
   "cell_type": "code",
   "execution_count": 67,
   "id": "cce1514e",
   "metadata": {},
   "outputs": [],
   "source": [
    "#age(numerical)"
   ]
  },
  {
   "cell_type": "code",
   "execution_count": 68,
   "id": "2ba50cdc",
   "metadata": {},
   "outputs": [
    {
     "data": {
      "text/plain": [
       "<function matplotlib.pyplot.show(close=None, block=None)>"
      ]
     },
     "execution_count": 68,
     "metadata": {},
     "output_type": "execute_result"
    },
    {
     "data": {
      "image/png": "[encoded data removed]",
      "text/plain": [
       "<Figure size 432x432 with 1 Axes>"
      ]
     },
     "metadata": {},
     "output_type": "display_data"
    }
   ],
   "source": [
    "sns.set()\n",
    "plt.figure(figsize=(6,6))\n",
    "sns.distplot(train_df['age'])\n",
    "plt.title('Distplot of age') \n",
    "plt.show   "
   ]
  },
  {
   "cell_type": "code",
   "execution_count": 69,
   "id": "f5ab25b7",
   "metadata": {},
   "outputs": [
    {
     "data": {
      "text/plain": [
       "<AxesSubplot:>"
      ]
     },
     "execution_count": 69,
     "metadata": {},
     "output_type": "execute_result"
    },
    {
     "data": {
      "image/png": "[encoded data removed]",
      "text/plain": [
       "<Figure size 432x288 with 1 Axes>"
      ]
     },
     "metadata": {},
     "output_type": "display_data"
    }
   ],
   "source": [
    "age=train_df['age']\n",
    "props2= dict(boxes='red',whiskers='black',medians='blue',caps='green')\n",
    "age.plot.box(color=props2,patch_artist=True,vert=True)"
   ]
  },
  {
   "cell_type": "code",
   "execution_count": 70,
   "id": "3c93a6da",
   "metadata": {},
   "outputs": [
    {
     "name": "stdout",
     "output_type": "stream",
     "text": [
      "3.5 63.5\n"
     ]
    }
   ],
   "source": [
    "lower_age,upper_age=find_boundaries(train_df,'age')\n",
    "print(lower_age,upper_age)"
   ]
  },
  {
   "cell_type": "code",
   "execution_count": 71,
   "id": "ebf4be0e",
   "metadata": {},
   "outputs": [
    {
     "name": "stdout",
     "output_type": "stream",
     "text": [
      "number of outliers: 22\n"
     ]
    }
   ],
   "source": [
    "outliers = find_outliers_IQR(train_df['age'])\n",
    "print('number of outliers: '+ str(len(outliers)))"
   ]
  },
  {
   "cell_type": "code",
   "execution_count": 72,
   "id": "f2edc241",
   "metadata": {},
   "outputs": [],
   "source": [
    "train_df['age']=np.where(train_df['age']>upper_age,upper_age,\n",
    "                         np.where(train_df['age']<lower_age,lower_age,train_df['age']))"
   ]
  },
  {
   "cell_type": "code",
   "execution_count": 73,
   "id": "00c63f66",
   "metadata": {},
   "outputs": [
    {
     "data": {
      "text/plain": [
       "<AxesSubplot:>"
      ]
     },
     "execution_count": 73,
     "metadata": {},
     "output_type": "execute_result"
    },
    {
     "data": {
      "image/png": "[encoded data removed]",
      "text/plain": [
       "<Figure size 432x288 with 1 Axes>"
      ]
     },
     "metadata": {},
     "output_type": "display_data"
    }
   ],
   "source": [
    "age=train_df['age']\n",
    "props2= dict(boxes='red',whiskers='black',medians='blue',caps='green')\n",
    "age.plot.box(color=props2,patch_artist=True,vert=True)"
   ]
  },
  {
   "cell_type": "code",
   "execution_count": 74,
   "id": "398754f8",
   "metadata": {},
   "outputs": [
    {
     "name": "stdout",
     "output_type": "stream",
     "text": [
      "               sum_sq     df       F   PR(>F)\n",
      "Group_no      6.51307    1.0  0.0514  0.82071\n",
      "Residual  96179.05132  759.0     NaN      NaN\n"
     ]
    }
   ],
   "source": [
    "#is it a good predictor?\n",
    "#Annova\n",
    "annova=ols('age ~ Group_no',data=train_df).fit()\n",
    "an=sm.stats.anova_lm(annova,typ=2)\n",
    "print(an.round(decimals=5)) #Bad Predictor"
   ]
  },
  {
   "cell_type": "code",
   "execution_count": 75,
   "id": "a6757656",
   "metadata": {},
   "outputs": [],
   "source": [
    "train_df= train_df.drop(['age'],axis=1)"
   ]
  },
  {
   "cell_type": "code",
   "execution_count": 76,
   "id": "64da80b2",
   "metadata": {},
   "outputs": [],
   "source": [
    "#installment_type(categorical)"
   ]
  },
  {
   "cell_type": "code",
   "execution_count": 77,
   "id": "17f31dd0",
   "metadata": {},
   "outputs": [
    {
     "data": {
      "text/plain": [
       "A143    624\n",
       "A141    103\n",
       "A142     34\n",
       "Name: installment_type, dtype: int64"
      ]
     },
     "execution_count": 77,
     "metadata": {},
     "output_type": "execute_result"
    }
   ],
   "source": [
    "train_df['installment_type'].value_counts()"
   ]
  },
  {
   "cell_type": "code",
   "execution_count": 78,
   "id": "fdc9d738",
   "metadata": {},
   "outputs": [
    {
     "data": {
      "text/plain": [
       "<function matplotlib.pyplot.show(close=None, block=None)>"
      ]
     },
     "execution_count": 78,
     "metadata": {},
     "output_type": "execute_result"
    },
    {
     "data": {
      "image/png": "[encoded data removed]",
      "text/plain": [
       "<Figure size 432x432 with 1 Axes>"
      ]
     },
     "metadata": {},
     "output_type": "display_data"
    }
   ],
   "source": [
    "sns.set()\n",
    "plt.figure(figsize=(6,6))\n",
    "sns.countplot(train_df['installment_type'])\n",
    "plt.title('Distplot of installment_type') \n",
    "plt.show"
   ]
  },
  {
   "cell_type": "code",
   "execution_count": 79,
   "id": "e8ad611f",
   "metadata": {},
   "outputs": [
    {
     "data": {
      "text/plain": [
       "(3.0496240459929074,\n",
       " 0.5495555549282711,\n",
       " 4,\n",
       " array([[ 25.71616294,   8.48883049, 155.79500657],\n",
       "        [ 45.34165572,  14.96714849, 274.6911958 ],\n",
       "        [ 31.94218134,  10.54402102, 193.51379763]]))"
      ]
     },
     "execution_count": 79,
     "metadata": {},
     "output_type": "execute_result"
    }
   ],
   "source": [
    "#is it a good predictor?\n",
    "#chi-square\n",
    "ct_job = pd.crosstab(train_df.Group_no,train_df.installment_type)\n",
    "chi2_contingency(ct_job, correction = False) #bad predictor"
   ]
  },
  {
   "cell_type": "code",
   "execution_count": 80,
   "id": "a46927c2",
   "metadata": {},
   "outputs": [],
   "source": [
    "train_df= train_df.drop(['installment_type'],axis=1)"
   ]
  },
  {
   "cell_type": "code",
   "execution_count": 81,
   "id": "eac30a71",
   "metadata": {},
   "outputs": [],
   "source": [
    "#housing_type(categorical)"
   ]
  },
  {
   "cell_type": "code",
   "execution_count": 82,
   "id": "11a64f02",
   "metadata": {},
   "outputs": [
    {
     "data": {
      "text/plain": [
       "A152    540\n",
       "A151    134\n",
       "A153     87\n",
       "Name: housing_type, dtype: int64"
      ]
     },
     "execution_count": 82,
     "metadata": {},
     "output_type": "execute_result"
    }
   ],
   "source": [
    "train_df['housing_type'].value_counts()"
   ]
  },
  {
   "cell_type": "code",
   "execution_count": 83,
   "id": "117f101e",
   "metadata": {},
   "outputs": [
    {
     "data": {
      "text/plain": [
       "<function matplotlib.pyplot.show(close=None, block=None)>"
      ]
     },
     "execution_count": 83,
     "metadata": {},
     "output_type": "execute_result"
    },
    {
     "data": {
      "image/png": "[encoded data removed]",
      "text/plain": [
       "<Figure size 432x432 with 1 Axes>"
      ]
     },
     "metadata": {},
     "output_type": "display_data"
    }
   ],
   "source": [
    "sns.set()\n",
    "plt.figure(figsize=(6,6))\n",
    "sns.countplot(train_df['housing_type'])\n",
    "plt.title('Distplot of housing_type') \n",
    "plt.show"
   ]
  },
  {
   "cell_type": "code",
   "execution_count": 84,
   "id": "635f812e",
   "metadata": {},
   "outputs": [
    {
     "data": {
      "text/plain": [
       "(31.56629325381164,\n",
       " 2.346064250189905e-06,\n",
       " 4,\n",
       " array([[ 33.45597898, 134.82260184,  21.72141919],\n",
       "        [ 58.98817346, 237.71353482,  38.29829172],\n",
       "        [ 41.55584757, 167.46386334,  26.98028909]]))"
      ]
     },
     "execution_count": 84,
     "metadata": {},
     "output_type": "execute_result"
    }
   ],
   "source": [
    "#is it a good predictor?\n",
    "#chi-square\n",
    "ct_job = pd.crosstab(train_df.Group_no,train_df.housing_type)\n",
    "chi2_contingency(ct_job, correction = False) #good predictor"
   ]
  },
  {
   "cell_type": "code",
   "execution_count": 85,
   "id": "b47df852",
   "metadata": {},
   "outputs": [],
   "source": [
    "#credits_no(categorical)"
   ]
  },
  {
   "cell_type": "code",
   "execution_count": 86,
   "id": "86e46e98",
   "metadata": {},
   "outputs": [
    {
     "data": {
      "text/plain": [
       "1    488\n",
       "2    249\n",
       "3     20\n",
       "4      4\n",
       "Name: credits_no, dtype: int64"
      ]
     },
     "execution_count": 86,
     "metadata": {},
     "output_type": "execute_result"
    }
   ],
   "source": [
    "train_df['credits_no'].value_counts()"
   ]
  },
  {
   "cell_type": "code",
   "execution_count": 87,
   "id": "9b506189",
   "metadata": {},
   "outputs": [
    {
     "data": {
      "text/plain": [
       "<function matplotlib.pyplot.show(close=None, block=None)>"
      ]
     },
     "execution_count": 87,
     "metadata": {},
     "output_type": "execute_result"
    },
    {
     "data": {
      "image/png": "[encoded data removed]",
      "text/plain": [
       "<Figure size 432x432 with 1 Axes>"
      ]
     },
     "metadata": {},
     "output_type": "display_data"
    }
   ],
   "source": [
    "sns.set()\n",
    "plt.figure(figsize=(6,6))\n",
    "sns.countplot(train_df['credits_no'])\n",
    "plt.title('Distplot of credits_no') \n",
    "plt.show"
   ]
  },
  {
   "cell_type": "code",
   "execution_count": 88,
   "id": "53d52495",
   "metadata": {},
   "outputs": [
    {
     "data": {
      "text/plain": [
       "(11.984313720513489,\n",
       " 0.062319662288139635,\n",
       " 6,\n",
       " array([[121.83968463,  62.16819974,   4.9934297 ,   0.99868594],\n",
       "        [214.82260184, 109.61235217,   8.80420499,   1.760841  ],\n",
       "        [151.33771353,  77.21944809,   6.20236531,   1.24047306]]))"
      ]
     },
     "execution_count": 88,
     "metadata": {},
     "output_type": "execute_result"
    }
   ],
   "source": [
    "#is it a good predictor?\n",
    "#chi-square\n",
    "ct_job = pd.crosstab(train_df.Group_no,train_df.credits_no)\n",
    "chi2_contingency(ct_job, correction = False) #bad predictor"
   ]
  },
  {
   "cell_type": "code",
   "execution_count": 89,
   "id": "fdb59c2c",
   "metadata": {},
   "outputs": [],
   "source": [
    "train_df= train_df.drop(['credits_no'],axis=1)"
   ]
  },
  {
   "cell_type": "code",
   "execution_count": 90,
   "id": "ec2b87a3",
   "metadata": {},
   "outputs": [],
   "source": [
    "#job_type(categprical)"
   ]
  },
  {
   "cell_type": "code",
   "execution_count": 91,
   "id": "bb8257cb",
   "metadata": {},
   "outputs": [
    {
     "data": {
      "text/plain": [
       "A173    479\n",
       "A172    151\n",
       "A174    114\n",
       "A171     17\n",
       "Name: job_type, dtype: int64"
      ]
     },
     "execution_count": 91,
     "metadata": {},
     "output_type": "execute_result"
    }
   ],
   "source": [
    "train_df['job_type'].value_counts()"
   ]
  },
  {
   "cell_type": "code",
   "execution_count": 92,
   "id": "cab4296b",
   "metadata": {},
   "outputs": [
    {
     "data": {
      "text/plain": [
       "<function matplotlib.pyplot.show(close=None, block=None)>"
      ]
     },
     "execution_count": 92,
     "metadata": {},
     "output_type": "execute_result"
    },
    {
     "data": {
      "image/png": "[encoded data removed]",
      "text/plain": [
       "<Figure size 432x432 with 1 Axes>"
      ]
     },
     "metadata": {},
     "output_type": "display_data"
    }
   ],
   "source": [
    "sns.set()\n",
    "plt.figure(figsize=(6,6))\n",
    "sns.countplot(train_df['job_type'])\n",
    "plt.title('Distplot of job_type') \n",
    "plt.show"
   ]
  },
  {
   "cell_type": "code",
   "execution_count": 93,
   "id": "10e7e021",
   "metadata": {},
   "outputs": [
    {
     "data": {
      "text/plain": [
       "(98.67659813412963,\n",
       " 4.737916506831959e-19,\n",
       " 6,\n",
       " array([[  4.24441524,  37.70039422, 119.59264126,  28.46254928],\n",
       "        [  7.48357424,  66.4717477 , 210.86070959,  50.18396846],\n",
       "        [  5.27201051,  46.82785808, 148.54664915,  35.35348226]]))"
      ]
     },
     "execution_count": 93,
     "metadata": {},
     "output_type": "execute_result"
    }
   ],
   "source": [
    "#is it a good predictor?\n",
    "#chi-square\n",
    "ct_job = pd.crosstab(train_df.Group_no,train_df.job_type)\n",
    "chi2_contingency(ct_job, correction = False) #good predictor"
   ]
  },
  {
   "cell_type": "code",
   "execution_count": 94,
   "id": "9fbe548e",
   "metadata": {},
   "outputs": [],
   "source": [
    "#liables"
   ]
  },
  {
   "cell_type": "code",
   "execution_count": 95,
   "id": "f8410bff",
   "metadata": {},
   "outputs": [
    {
     "data": {
      "text/plain": [
       "1    646\n",
       "2    115\n",
       "Name: liables, dtype: int64"
      ]
     },
     "execution_count": 95,
     "metadata": {},
     "output_type": "execute_result"
    }
   ],
   "source": [
    "train_df['liables'].value_counts()"
   ]
  },
  {
   "cell_type": "code",
   "execution_count": 96,
   "id": "bae78830",
   "metadata": {},
   "outputs": [
    {
     "data": {
      "text/plain": [
       "<function matplotlib.pyplot.show(close=None, block=None)>"
      ]
     },
     "execution_count": 96,
     "metadata": {},
     "output_type": "execute_result"
    },
    {
     "data": {
      "image/png": "[encoded data removed]",
      "text/plain": [
       "<Figure size 432x432 with 1 Axes>"
      ]
     },
     "metadata": {},
     "output_type": "display_data"
    }
   ],
   "source": [
    "sns.set()\n",
    "plt.figure(figsize=(6,6))\n",
    "sns.countplot(train_df['liables'])\n",
    "plt.title('Distplot of liables') \n",
    "plt.show"
   ]
  },
  {
   "cell_type": "code",
   "execution_count": 97,
   "id": "e0fb2a9e",
   "metadata": {},
   "outputs": [
    {
     "data": {
      "text/plain": [
       "(0.09165242578505177,\n",
       " 0.9552079505937446,\n",
       " 2,\n",
       " array([[161.28777924,  28.71222076],\n",
       "        [284.37582129,  50.62417871],\n",
       "        [200.33639947,  35.66360053]]))"
      ]
     },
     "execution_count": 97,
     "metadata": {},
     "output_type": "execute_result"
    }
   ],
   "source": [
    "#is it a good predictor?\n",
    "#chi-square\n",
    "ct_job = pd.crosstab(train_df.Group_no,train_df.liables)\n",
    "chi2_contingency(ct_job, correction = False) #bad predictor"
   ]
  },
  {
   "cell_type": "code",
   "execution_count": 98,
   "id": "f2ca00c4",
   "metadata": {},
   "outputs": [],
   "source": [
    "train_df= train_df.drop(['liables'],axis=1)"
   ]
  },
  {
   "cell_type": "code",
   "execution_count": 99,
   "id": "03ed925f",
   "metadata": {},
   "outputs": [],
   "source": [
    "#telephone(categorical)"
   ]
  },
  {
   "cell_type": "code",
   "execution_count": 100,
   "id": "3f36ae27",
   "metadata": {},
   "outputs": [
    {
     "data": {
      "text/plain": [
       "A191    457\n",
       "A192    304\n",
       "Name: telephone, dtype: int64"
      ]
     },
     "execution_count": 100,
     "metadata": {},
     "output_type": "execute_result"
    }
   ],
   "source": [
    "train_df['telephone'].value_counts()"
   ]
  },
  {
   "cell_type": "code",
   "execution_count": 101,
   "id": "b637e341",
   "metadata": {},
   "outputs": [
    {
     "data": {
      "text/plain": [
       "<function matplotlib.pyplot.show(close=None, block=None)>"
      ]
     },
     "execution_count": 101,
     "metadata": {},
     "output_type": "execute_result"
    },
    {
     "data": {
      "image/png": "[encoded data removed]",
      "text/plain": [
       "<Figure size 432x432 with 1 Axes>"
      ]
     },
     "metadata": {},
     "output_type": "display_data"
    }
   ],
   "source": [
    "sns.set()\n",
    "plt.figure(figsize=(6,6))\n",
    "sns.countplot(train_df['telephone'])\n",
    "plt.title('Distplot of telephone') \n",
    "plt.show"
   ]
  },
  {
   "cell_type": "code",
   "execution_count": 102,
   "id": "c570391d",
   "metadata": {},
   "outputs": [
    {
     "data": {
      "text/plain": [
       "(56.81571527553623,\n",
       " 4.598584649019187e-13,\n",
       " 2,\n",
       " array([[114.09986859,  75.90013141],\n",
       "        [201.1760841 , 133.8239159 ],\n",
       "        [141.72404731,  94.27595269]]))"
      ]
     },
     "execution_count": 102,
     "metadata": {},
     "output_type": "execute_result"
    }
   ],
   "source": [
    "#is it a good predictor?\n",
    "#chi-square\n",
    "ct_job = pd.crosstab(train_df.Group_no,train_df.telephone)\n",
    "chi2_contingency(ct_job,correction = False) #good predictor"
   ]
  },
  {
   "cell_type": "code",
   "execution_count": 103,
   "id": "06473fcb",
   "metadata": {},
   "outputs": [],
   "source": [
    "#foreigner(categorical)"
   ]
  },
  {
   "cell_type": "code",
   "execution_count": 104,
   "id": "ac479674",
   "metadata": {},
   "outputs": [
    {
     "data": {
      "text/plain": [
       "A201    735\n",
       "A202     26\n",
       "Name: foreigner, dtype: int64"
      ]
     },
     "execution_count": 104,
     "metadata": {},
     "output_type": "execute_result"
    }
   ],
   "source": [
    "train_df['foreigner'].value_counts()"
   ]
  },
  {
   "cell_type": "code",
   "execution_count": 105,
   "id": "8557515e",
   "metadata": {},
   "outputs": [
    {
     "data": {
      "text/plain": [
       "<function matplotlib.pyplot.show(close=None, block=None)>"
      ]
     },
     "execution_count": 105,
     "metadata": {},
     "output_type": "execute_result"
    },
    {
     "data": {
      "image/png": "[encoded data removed]",
      "text/plain": [
       "<Figure size 432x432 with 1 Axes>"
      ]
     },
     "metadata": {},
     "output_type": "display_data"
    }
   ],
   "source": [
    "sns.set()\n",
    "plt.figure(figsize=(6,6))\n",
    "sns.countplot(train_df['foreigner'])\n",
    "plt.title('Distplot of foreigner') \n",
    "plt.show"
   ]
  },
  {
   "cell_type": "code",
   "execution_count": 106,
   "id": "1f307cc9",
   "metadata": {},
   "outputs": [
    {
     "data": {
      "text/plain": [
       "(9.937748023460017,\n",
       " 0.006950970341076178,\n",
       " 2,\n",
       " array([[183.50854139,   6.49145861],\n",
       "        [323.55453351,  11.44546649],\n",
       "        [227.9369251 ,   8.0630749 ]]))"
      ]
     },
     "execution_count": 106,
     "metadata": {},
     "output_type": "execute_result"
    }
   ],
   "source": [
    "#is it a good predictor?\n",
    "#chi-square\n",
    "ct_job = pd.crosstab(train_df.Group_no,train_df.foreigner)\n",
    "chi2_contingency(ct_job,correction = False) #good predictor"
   ]
  },
  {
   "cell_type": "markdown",
   "id": "ef1ce1de",
   "metadata": {},
   "source": [
    "# Model PreProcessing"
   ]
  },
  {
   "cell_type": "markdown",
   "id": "004b1b97",
   "metadata": {},
   "source": [
    "In this stage i have converted all the columns into numerical form using label encoding and manual encodeing"
   ]
  },
  {
   "cell_type": "code",
   "execution_count": 107,
   "id": "ae72186d",
   "metadata": {},
   "outputs": [],
   "source": [
    "#account_info \n",
    "train_df['account_info']=train_df.get('account_info').replace('A14',0)\n",
    "train_df['account_info']=train_df.get('account_info').replace('A11',1)\n",
    "train_df['account_info']=train_df.get('account_info').replace('A12',2)\n",
    "train_df['account_info']=train_df.get('account_info').replace('A13',3)"
   ]
  },
  {
   "cell_type": "code",
   "execution_count": 108,
   "id": "06569685",
   "metadata": {},
   "outputs": [],
   "source": [
    "#credit_history \n",
    "from sklearn import preprocessing\n",
    "label_encoder = preprocessing.LabelEncoder()\n",
    "train_df['credit_history']= label_encoder.fit_transform(train_df['credit_history'])"
   ]
  },
  {
   "cell_type": "code",
   "execution_count": 109,
   "id": "d766748a",
   "metadata": {},
   "outputs": [],
   "source": [
    "#purpose\n",
    "train_df['purpose']=label_encoder.fit_transform(train_df['purpose'])"
   ]
  },
  {
   "cell_type": "code",
   "execution_count": 110,
   "id": "3d14091f",
   "metadata": {},
   "outputs": [],
   "source": [
    "#savings_account\n",
    "train_df['savings_account']=train_df.get('savings_account').replace('A65',0)\n",
    "train_df['savings_account']=train_df.get('savings_account').replace('A61',1)\n",
    "train_df['savings_account']=train_df.get('savings_account').replace('A62',2)\n",
    "train_df['savings_account']=train_df.get('savings_account').replace('A63',3)\n",
    "train_df['savings_account']=train_df.get('savings_account').replace('A64',4)"
   ]
  },
  {
   "cell_type": "code",
   "execution_count": 111,
   "id": "7d1ac817",
   "metadata": {},
   "outputs": [],
   "source": [
    "#personal_status\n",
    "train_df['personal_status']=label_encoder.fit_transform(train_df['personal_status'])"
   ]
  },
  {
   "cell_type": "code",
   "execution_count": 112,
   "id": "f9ef7bbc",
   "metadata": {},
   "outputs": [],
   "source": [
    "#property_type\n",
    "train_df['property_type']=label_encoder.fit_transform(train_df['property_type'])"
   ]
  },
  {
   "cell_type": "code",
   "execution_count": 113,
   "id": "17d161ca",
   "metadata": {},
   "outputs": [],
   "source": [
    "#housing_type\n",
    "train_df['housing_type']=label_encoder.fit_transform(train_df['housing_type'])"
   ]
  },
  {
   "cell_type": "code",
   "execution_count": 114,
   "id": "64609d78",
   "metadata": {},
   "outputs": [],
   "source": [
    "#job_type\n",
    "train_df['job_type']=label_encoder.fit_transform(train_df['job_type'])"
   ]
  },
  {
   "cell_type": "code",
   "execution_count": 115,
   "id": "738480f9",
   "metadata": {},
   "outputs": [],
   "source": [
    "#telephone\n",
    "train_df['telephone']=label_encoder.fit_transform(train_df['telephone'])"
   ]
  },
  {
   "cell_type": "code",
   "execution_count": 116,
   "id": "309b62f6",
   "metadata": {},
   "outputs": [],
   "source": [
    "#foreigner\n",
    "train_df['foreigner']=label_encoder.fit_transform(train_df['foreigner'])"
   ]
  },
  {
   "cell_type": "markdown",
   "id": "ff6c247b",
   "metadata": {},
   "source": [
    "# SMOTE"
   ]
  },
  {
   "cell_type": "code",
   "execution_count": 117,
   "id": "e2384143",
   "metadata": {},
   "outputs": [
    {
     "data": {
      "text/plain": [
       "2    335\n",
       "3    236\n",
       "1    190\n",
       "Name: Group_no, dtype: int64"
      ]
     },
     "execution_count": 117,
     "metadata": {},
     "output_type": "execute_result"
    }
   ],
   "source": [
    "train_df['Group_no'].value_counts()"
   ]
  },
  {
   "cell_type": "code",
   "execution_count": 118,
   "id": "0ccdf873",
   "metadata": {},
   "outputs": [],
   "source": [
    "#train_df= train_df.drop(['job_type'],axis=1)"
   ]
  },
  {
   "cell_type": "code",
   "execution_count": 119,
   "id": "77ed55fc",
   "metadata": {},
   "outputs": [],
   "source": [
    "equal_1= train_df[train_df.Group_no == 1]\n",
    "equal_2= train_df[train_df.Group_no == 2]\n",
    "equal_3= train_df[train_df.Group_no == 3]"
   ]
  },
  {
   "cell_type": "code",
   "execution_count": 120,
   "id": "4dfb4134",
   "metadata": {},
   "outputs": [],
   "source": [
    "from sklearn.utils import resample\n",
    "def_oversample1 = resample(equal_3, replace = True,n_samples=len(equal_2),random_state=27)"
   ]
  },
  {
   "cell_type": "code",
   "execution_count": 121,
   "id": "7d6288ea",
   "metadata": {},
   "outputs": [
    {
     "data": {
      "text/plain": [
       "(335, 14)"
      ]
     },
     "execution_count": 121,
     "metadata": {},
     "output_type": "execute_result"
    }
   ],
   "source": [
    "def_oversample1.shape"
   ]
  },
  {
   "cell_type": "code",
   "execution_count": 122,
   "id": "24f00ede",
   "metadata": {},
   "outputs": [],
   "source": [
    "from sklearn.utils import resample\n",
    "def_oversample2= resample(equal_1, replace = True,n_samples=len(equal_2),random_state=27)"
   ]
  },
  {
   "cell_type": "code",
   "execution_count": 123,
   "id": "02e6ca9a",
   "metadata": {},
   "outputs": [
    {
     "data": {
      "text/plain": [
       "(335, 14)"
      ]
     },
     "execution_count": 123,
     "metadata": {},
     "output_type": "execute_result"
    }
   ],
   "source": [
    "def_oversample2.shape"
   ]
  },
  {
   "cell_type": "code",
   "execution_count": 124,
   "id": "fd74268f",
   "metadata": {},
   "outputs": [],
   "source": [
    "BCsmote= pd.concat([equal_2, def_oversample1,def_oversample2])"
   ]
  },
  {
   "cell_type": "code",
   "execution_count": 125,
   "id": "cd00978c",
   "metadata": {},
   "outputs": [
    {
     "data": {
      "text/plain": [
       "2    335\n",
       "3    335\n",
       "1    335\n",
       "Name: Group_no, dtype: int64"
      ]
     },
     "execution_count": 125,
     "metadata": {},
     "output_type": "execute_result"
    }
   ],
   "source": [
    "BCsmote['Group_no'].value_counts()"
   ]
  },
  {
   "cell_type": "code",
   "execution_count": 126,
   "id": "3fa3db95",
   "metadata": {},
   "outputs": [
    {
     "data": {
      "text/plain": [
       "<function matplotlib.pyplot.show(close=None, block=None)>"
      ]
     },
     "execution_count": 126,
     "metadata": {},
     "output_type": "execute_result"
    },
    {
     "data": {
      "image/png": "[encoded data removed]",
      "text/plain": [
       "<Figure size 432x432 with 1 Axes>"
      ]
     },
     "metadata": {},
     "output_type": "display_data"
    }
   ],
   "source": [
    "sns.set()\n",
    "plt.figure(figsize=(6,6))\n",
    "sns.countplot(BCsmote['Group_no'])\n",
    "plt.title('Barplot of Group_no')\n",
    "plt.show"
   ]
  },
  {
   "cell_type": "code",
   "execution_count": 127,
   "id": "3e562cfe",
   "metadata": {},
   "outputs": [
    {
     "name": "stdout",
     "output_type": "stream",
     "text": [
      "<class 'pandas.core.frame.DataFrame'>\n",
      "Int64Index: 1005 entries, 2 to 477\n",
      "Data columns (total 14 columns):\n",
      " #   Column           Non-Null Count  Dtype  \n",
      "---  ------           --------------  -----  \n",
      " 0   serial number    1005 non-null   int64  \n",
      " 1   account_info     1005 non-null   int64  \n",
      " 2   duration_month   1005 non-null   float64\n",
      " 3   credit_history   1005 non-null   int32  \n",
      " 4   purpose          1005 non-null   int32  \n",
      " 5   savings_account  1005 non-null   int64  \n",
      " 6   poi              1005 non-null   float64\n",
      " 7   personal_status  1005 non-null   int32  \n",
      " 8   property_type    1005 non-null   int32  \n",
      " 9   housing_type     1005 non-null   int32  \n",
      " 10  job_type         1005 non-null   int32  \n",
      " 11  telephone        1005 non-null   int32  \n",
      " 12  foreigner        1005 non-null   int32  \n",
      " 13  Group_no         1005 non-null   int64  \n",
      "dtypes: float64(2), int32(8), int64(4)\n",
      "memory usage: 86.4 KB\n"
     ]
    }
   ],
   "source": [
    "BCsmote.info()"
   ]
  },
  {
   "cell_type": "markdown",
   "id": "b5e7fe80",
   "metadata": {},
   "source": [
    "# Train And Validation"
   ]
  },
  {
   "cell_type": "markdown",
   "id": "2172e14d",
   "metadata": {},
   "source": [
    "Here I have split the data into train and validation test and also standardized the data using standard scaler"
   ]
  },
  {
   "cell_type": "code",
   "execution_count": 128,
   "id": "1543da27",
   "metadata": {},
   "outputs": [],
   "source": [
    "#X and y\n",
    "X=BCsmote.drop('Group_no',axis=1)\n",
    "y=BCsmote['Group_no']"
   ]
  },
  {
   "cell_type": "code",
   "execution_count": 129,
   "id": "106316e1",
   "metadata": {},
   "outputs": [],
   "source": [
    "#train test\n",
    "from sklearn.model_selection import train_test_split\n",
    "X_train,X_val,y_train,y_val=train_test_split(X,y,test_size=0.20,random_state=45)"
   ]
  },
  {
   "cell_type": "code",
   "execution_count": 130,
   "id": "577ab2ce",
   "metadata": {},
   "outputs": [],
   "source": [
    "# Feature Scaling\n",
    "from sklearn.preprocessing import StandardScaler\n",
    "sc = StandardScaler()\n",
    "X_train = sc.fit_transform(X_train)\n",
    "X_val = sc.transform(X_val)"
   ]
  },
  {
   "cell_type": "markdown",
   "id": "eecde2c0",
   "metadata": {},
   "source": [
    "# Model Training"
   ]
  },
  {
   "cell_type": "markdown",
   "id": "918ecfa9",
   "metadata": {},
   "source": [
    "# Random Forest"
   ]
  },
  {
   "cell_type": "code",
   "execution_count": 137,
   "id": "bfb22c5e",
   "metadata": {},
   "outputs": [],
   "source": [
    "from sklearn.ensemble import RandomForestClassifier"
   ]
  },
  {
   "cell_type": "code",
   "execution_count": 138,
   "id": "5fa38b4b",
   "metadata": {},
   "outputs": [],
   "source": [
    "rf=RandomForestClassifier(n_estimators=100,bootstrap=True,max_features='sqrt')"
   ]
  },
  {
   "cell_type": "code",
   "execution_count": 139,
   "id": "80ef0180",
   "metadata": {},
   "outputs": [],
   "source": [
    "rfFit=rf.fit(X_train,y_train)"
   ]
  },
  {
   "cell_type": "code",
   "execution_count": 140,
   "id": "0885faef",
   "metadata": {},
   "outputs": [],
   "source": [
    "#actual class prediction\n",
    "y_predRF=rfFit.predict(X_val)"
   ]
  },
  {
   "cell_type": "code",
   "execution_count": 141,
   "id": "3717a7b0",
   "metadata": {},
   "outputs": [
    {
     "data": {
      "text/plain": [
       "0.8258706467661692"
      ]
     },
     "execution_count": 141,
     "metadata": {},
     "output_type": "execute_result"
    }
   ],
   "source": [
    "Ran_forr_acc=accuracy_score(y_val,y_predRF)\n",
    "Ran_forr_acc"
   ]
  },
  {
   "cell_type": "markdown",
   "id": "720cc287",
   "metadata": {},
   "source": [
    "# Predicting for test data"
   ]
  },
  {
   "cell_type": "markdown",
   "id": "29f70e2e",
   "metadata": {},
   "source": [
    "Before we predtict for test data first let us analyze the test data"
   ]
  },
  {
   "cell_type": "code",
   "execution_count": 185,
   "id": "12e6f553",
   "metadata": {},
   "outputs": [
    {
     "data": {
      "text/html": [
       "<div>\n",
       "<style scoped>\n",
       "    .dataframe tbody tr th:only-of-type {\n",
       "        vertical-align: middle;\n",
       "    }\n",
       "\n",
       "    .dataframe tbody tr th {\n",
       "        vertical-align: top;\n",
       "    }\n",
       "\n",
       "    .dataframe thead th {\n",
       "        text-align: right;\n",
       "    }\n",
       "</style>\n",
       "<table border=\"1\" class=\"dataframe\">\n",
       "  <thead>\n",
       "    <tr style=\"text-align: right;\">\n",
       "      <th></th>\n",
       "      <th>serial number</th>\n",
       "      <th>account_info</th>\n",
       "      <th>duration_month</th>\n",
       "      <th>credit_history</th>\n",
       "      <th>purpose</th>\n",
       "      <th>savings_account</th>\n",
       "      <th>employment_st</th>\n",
       "      <th>poi</th>\n",
       "      <th>personal_status</th>\n",
       "      <th>gurantors</th>\n",
       "      <th>resident_since</th>\n",
       "      <th>property_type</th>\n",
       "      <th>age</th>\n",
       "      <th>installment_type</th>\n",
       "      <th>housing_type</th>\n",
       "      <th>credits_no</th>\n",
       "      <th>job_type</th>\n",
       "      <th>liables</th>\n",
       "      <th>telephone</th>\n",
       "      <th>foreigner</th>\n",
       "    </tr>\n",
       "  </thead>\n",
       "  <tbody>\n",
       "    <tr>\n",
       "      <th>0</th>\n",
       "      <td>1</td>\n",
       "      <td>A14</td>\n",
       "      <td>24</td>\n",
       "      <td>A34</td>\n",
       "      <td>A46</td>\n",
       "      <td>A61</td>\n",
       "      <td>A75</td>\n",
       "      <td>4.0</td>\n",
       "      <td>A93</td>\n",
       "      <td>A101</td>\n",
       "      <td>4</td>\n",
       "      <td>A124</td>\n",
       "      <td>54.0</td>\n",
       "      <td>A143</td>\n",
       "      <td>A153</td>\n",
       "      <td>2</td>\n",
       "      <td>A173</td>\n",
       "      <td>2</td>\n",
       "      <td>A191</td>\n",
       "      <td>A201</td>\n",
       "    </tr>\n",
       "    <tr>\n",
       "      <th>1</th>\n",
       "      <td>2</td>\n",
       "      <td>A12</td>\n",
       "      <td>18</td>\n",
       "      <td>A34</td>\n",
       "      <td>A43</td>\n",
       "      <td>A61</td>\n",
       "      <td>A75</td>\n",
       "      <td>3.0</td>\n",
       "      <td>A92</td>\n",
       "      <td>A103</td>\n",
       "      <td>4</td>\n",
       "      <td>A121</td>\n",
       "      <td>48.0</td>\n",
       "      <td>A141</td>\n",
       "      <td>A151</td>\n",
       "      <td>2</td>\n",
       "      <td>A172</td>\n",
       "      <td>1</td>\n",
       "      <td>A192</td>\n",
       "      <td>A201</td>\n",
       "    </tr>\n",
       "    <tr>\n",
       "      <th>2</th>\n",
       "      <td>3</td>\n",
       "      <td>A11</td>\n",
       "      <td>20</td>\n",
       "      <td>A34</td>\n",
       "      <td>A42</td>\n",
       "      <td>A61</td>\n",
       "      <td>A75</td>\n",
       "      <td>1.0</td>\n",
       "      <td>A92</td>\n",
       "      <td>A101</td>\n",
       "      <td>4</td>\n",
       "      <td>A122</td>\n",
       "      <td>24.0</td>\n",
       "      <td>A143</td>\n",
       "      <td>A152</td>\n",
       "      <td>2</td>\n",
       "      <td>A173</td>\n",
       "      <td>1</td>\n",
       "      <td>A191</td>\n",
       "      <td>A201</td>\n",
       "    </tr>\n",
       "    <tr>\n",
       "      <th>3</th>\n",
       "      <td>4</td>\n",
       "      <td>A14</td>\n",
       "      <td>12</td>\n",
       "      <td>A34</td>\n",
       "      <td>A43</td>\n",
       "      <td>A65</td>\n",
       "      <td>A75</td>\n",
       "      <td>4.0</td>\n",
       "      <td>A93</td>\n",
       "      <td>A101</td>\n",
       "      <td>4</td>\n",
       "      <td>A123</td>\n",
       "      <td>35.0</td>\n",
       "      <td>A143</td>\n",
       "      <td>A152</td>\n",
       "      <td>2</td>\n",
       "      <td>A173</td>\n",
       "      <td>1</td>\n",
       "      <td>A191</td>\n",
       "      <td>A201</td>\n",
       "    </tr>\n",
       "    <tr>\n",
       "      <th>4</th>\n",
       "      <td>5</td>\n",
       "      <td>A12</td>\n",
       "      <td>12</td>\n",
       "      <td>A32</td>\n",
       "      <td>A40</td>\n",
       "      <td>A65</td>\n",
       "      <td>A71</td>\n",
       "      <td>1.0</td>\n",
       "      <td>A92</td>\n",
       "      <td>A101</td>\n",
       "      <td>2</td>\n",
       "      <td>A121</td>\n",
       "      <td>24.0</td>\n",
       "      <td>A143</td>\n",
       "      <td>A151</td>\n",
       "      <td>1</td>\n",
       "      <td>A171</td>\n",
       "      <td>1</td>\n",
       "      <td>A191</td>\n",
       "      <td>A201</td>\n",
       "    </tr>\n",
       "  </tbody>\n",
       "</table>\n",
       "</div>"
      ],
      "text/plain": [
       "   serial number account_info  duration_month credit_history purpose  \\\n",
       "0              1          A14              24            A34     A46   \n",
       "1              2          A12              18            A34     A43   \n",
       "2              3          A11              20            A34     A42   \n",
       "3              4          A14              12            A34     A43   \n",
       "4              5          A12              12            A32     A40   \n",
       "\n",
       "  savings_account employment_st  poi personal_status gurantors  \\\n",
       "0             A61           A75  4.0             A93      A101   \n",
       "1             A61           A75  3.0             A92      A103   \n",
       "2             A61           A75  1.0             A92      A101   \n",
       "3             A65           A75  4.0             A93      A101   \n",
       "4             A65           A71  1.0             A92      A101   \n",
       "\n",
       "   resident_since property_type   age installment_type housing_type  \\\n",
       "0               4          A124  54.0             A143         A153   \n",
       "1               4          A121  48.0             A141         A151   \n",
       "2               4          A122  24.0             A143         A152   \n",
       "3               4          A123  35.0             A143         A152   \n",
       "4               2          A121  24.0             A143         A151   \n",
       "\n",
       "   credits_no job_type  liables telephone foreigner  \n",
       "0           2     A173        2      A191      A201  \n",
       "1           2     A172        1      A192      A201  \n",
       "2           2     A173        1      A191      A201  \n",
       "3           2     A173        1      A191      A201  \n",
       "4           1     A171        1      A191      A201  "
      ]
     },
     "execution_count": 185,
     "metadata": {},
     "output_type": "execute_result"
    }
   ],
   "source": [
    "test_df.head()"
   ]
  },
  {
   "cell_type": "code",
   "execution_count": 186,
   "id": "c8c0f928",
   "metadata": {},
   "outputs": [
    {
     "name": "stdout",
     "output_type": "stream",
     "text": [
      "<class 'pandas.core.frame.DataFrame'>\n",
      "RangeIndex: 200 entries, 0 to 199\n",
      "Data columns (total 20 columns):\n",
      " #   Column            Non-Null Count  Dtype  \n",
      "---  ------            --------------  -----  \n",
      " 0   serial number     200 non-null    int64  \n",
      " 1   account_info      200 non-null    object \n",
      " 2   duration_month    200 non-null    int64  \n",
      " 3   credit_history    200 non-null    object \n",
      " 4   purpose           200 non-null    object \n",
      " 5   savings_account   200 non-null    object \n",
      " 6   employment_st     195 non-null    object \n",
      " 7   poi               195 non-null    float64\n",
      " 8   personal_status   200 non-null    object \n",
      " 9   gurantors         200 non-null    object \n",
      " 10  resident_since    200 non-null    int64  \n",
      " 11  property_type     200 non-null    object \n",
      " 12  age               198 non-null    float64\n",
      " 13  installment_type  200 non-null    object \n",
      " 14  housing_type      192 non-null    object \n",
      " 15  credits_no        200 non-null    int64  \n",
      " 16  job_type          200 non-null    object \n",
      " 17  liables           200 non-null    int64  \n",
      " 18  telephone         200 non-null    object \n",
      " 19  foreigner         200 non-null    object \n",
      "dtypes: float64(2), int64(5), object(13)\n",
      "memory usage: 31.4+ KB\n"
     ]
    }
   ],
   "source": [
    "test_df.info()"
   ]
  },
  {
   "cell_type": "code",
   "execution_count": 187,
   "id": "02095cb8",
   "metadata": {},
   "outputs": [
    {
     "data": {
      "text/plain": [
       "serial number       0\n",
       "account_info        0\n",
       "duration_month      0\n",
       "credit_history      0\n",
       "purpose             0\n",
       "savings_account     0\n",
       "employment_st       5\n",
       "poi                 5\n",
       "personal_status     0\n",
       "gurantors           0\n",
       "resident_since      0\n",
       "property_type       0\n",
       "age                 2\n",
       "installment_type    0\n",
       "housing_type        8\n",
       "credits_no          0\n",
       "job_type            0\n",
       "liables             0\n",
       "telephone           0\n",
       "foreigner           0\n",
       "dtype: int64"
      ]
     },
     "execution_count": 187,
     "metadata": {},
     "output_type": "execute_result"
    }
   ],
   "source": [
    "#Checking for any NULL values\n",
    "test_df.isnull().sum()"
   ]
  },
  {
   "cell_type": "code",
   "execution_count": 188,
   "id": "642c52c9",
   "metadata": {},
   "outputs": [],
   "source": [
    "for column in test_df.columns:\n",
    "    # Check if the column contains null values\n",
    "    if test_df[column].isnull().sum() > 0:\n",
    "        # Fill null values with mode of that column\n",
    "        mode_value = test_df[column].mode()[0]\n",
    "        test_df[column].fillna(mode_value, inplace=True)"
   ]
  },
  {
   "cell_type": "code",
   "execution_count": 189,
   "id": "5401b110",
   "metadata": {},
   "outputs": [
    {
     "data": {
      "text/plain": [
       "serial number       0\n",
       "account_info        0\n",
       "duration_month      0\n",
       "credit_history      0\n",
       "purpose             0\n",
       "savings_account     0\n",
       "employment_st       0\n",
       "poi                 0\n",
       "personal_status     0\n",
       "gurantors           0\n",
       "resident_since      0\n",
       "property_type       0\n",
       "age                 0\n",
       "installment_type    0\n",
       "housing_type        0\n",
       "credits_no          0\n",
       "job_type            0\n",
       "liables             0\n",
       "telephone           0\n",
       "foreigner           0\n",
       "dtype: int64"
      ]
     },
     "execution_count": 189,
     "metadata": {},
     "output_type": "execute_result"
    }
   ],
   "source": [
    "test_df.isnull().sum()"
   ]
  },
  {
   "cell_type": "code",
   "execution_count": 190,
   "id": "1891ee8d",
   "metadata": {},
   "outputs": [],
   "source": [
    "#deleting columns which were deleted from train dataset after statistical analysis\n",
    "test_df= test_df.drop(['liables','credits_no','installment_type','age','resident_since','gurantors','employment_st'],axis=1)"
   ]
  },
  {
   "cell_type": "code",
   "execution_count": 191,
   "id": "07e53562",
   "metadata": {},
   "outputs": [
    {
     "name": "stdout",
     "output_type": "stream",
     "text": [
      "<class 'pandas.core.frame.DataFrame'>\n",
      "RangeIndex: 200 entries, 0 to 199\n",
      "Data columns (total 13 columns):\n",
      " #   Column           Non-Null Count  Dtype  \n",
      "---  ------           --------------  -----  \n",
      " 0   serial number    200 non-null    int64  \n",
      " 1   account_info     200 non-null    object \n",
      " 2   duration_month   200 non-null    int64  \n",
      " 3   credit_history   200 non-null    object \n",
      " 4   purpose          200 non-null    object \n",
      " 5   savings_account  200 non-null    object \n",
      " 6   poi              200 non-null    float64\n",
      " 7   personal_status  200 non-null    object \n",
      " 8   property_type    200 non-null    object \n",
      " 9   housing_type     200 non-null    object \n",
      " 10  job_type         200 non-null    object \n",
      " 11  telephone        200 non-null    object \n",
      " 12  foreigner        200 non-null    object \n",
      "dtypes: float64(1), int64(2), object(10)\n",
      "memory usage: 20.4+ KB\n"
     ]
    }
   ],
   "source": [
    "test_df.info()"
   ]
  },
  {
   "cell_type": "markdown",
   "id": "75d36a83",
   "metadata": {},
   "source": [
    "Label Encoding"
   ]
  },
  {
   "cell_type": "code",
   "execution_count": 192,
   "id": "d18157d0",
   "metadata": {},
   "outputs": [],
   "source": [
    "#account_info \n",
    "test_df['account_info']=test_df.get('account_info').replace('A14',0)\n",
    "test_df['account_info']=test_df.get('account_info').replace('A11',1)\n",
    "test_df['account_info']=test_df.get('account_info').replace('A12',2)\n",
    "test_df['account_info']=test_df.get('account_info').replace('A13',3)\n",
    "#credit_history \n",
    "from sklearn import preprocessing\n",
    "label_encoder = preprocessing.LabelEncoder()\n",
    "test_df['credit_history']= label_encoder.fit_transform(test_df['credit_history'])\n",
    "#purpose\n",
    "test_df['purpose']=label_encoder.fit_transform(test_df['purpose'])\n",
    "#savings_account\n",
    "test_df['savings_account']=test_df.get('savings_account').replace('A65',0)\n",
    "test_df['savings_account']=test_df.get('savings_account').replace('A61',1)\n",
    "test_df['savings_account']=test_df.get('savings_account').replace('A62',2)\n",
    "test_df['savings_account']=test_df.get('savings_account').replace('A63',3)\n",
    "test_df['savings_account']=test_df.get('savings_account').replace('A64',4)\n",
    "#personal_status\n",
    "test_df['personal_status']=label_encoder.fit_transform(test_df['personal_status'])\n",
    "#property_type\n",
    "test_df['property_type']=label_encoder.fit_transform(test_df['property_type'])\n",
    "#housing_type\n",
    "test_df['housing_type']=label_encoder.fit_transform(test_df['housing_type'])\n",
    "#job_type\n",
    "test_df['job_type']=label_encoder.fit_transform(test_df['job_type'])\n",
    "#telephone\n",
    "test_df['telephone']=label_encoder.fit_transform(test_df['telephone'])\n",
    "#foreigner\n",
    "test_df['foreigner']=label_encoder.fit_transform(test_df['foreigner'])"
   ]
  },
  {
   "cell_type": "code",
   "execution_count": 193,
   "id": "8033aa65",
   "metadata": {},
   "outputs": [
    {
     "data": {
      "text/html": [
       "<div>\n",
       "<style scoped>\n",
       "    .dataframe tbody tr th:only-of-type {\n",
       "        vertical-align: middle;\n",
       "    }\n",
       "\n",
       "    .dataframe tbody tr th {\n",
       "        vertical-align: top;\n",
       "    }\n",
       "\n",
       "    .dataframe thead th {\n",
       "        text-align: right;\n",
       "    }\n",
       "</style>\n",
       "<table border=\"1\" class=\"dataframe\">\n",
       "  <thead>\n",
       "    <tr style=\"text-align: right;\">\n",
       "      <th></th>\n",
       "      <th>serial number</th>\n",
       "      <th>account_info</th>\n",
       "      <th>duration_month</th>\n",
       "      <th>credit_history</th>\n",
       "      <th>purpose</th>\n",
       "      <th>savings_account</th>\n",
       "      <th>poi</th>\n",
       "      <th>personal_status</th>\n",
       "      <th>property_type</th>\n",
       "      <th>housing_type</th>\n",
       "      <th>job_type</th>\n",
       "      <th>telephone</th>\n",
       "      <th>foreigner</th>\n",
       "    </tr>\n",
       "  </thead>\n",
       "  <tbody>\n",
       "    <tr>\n",
       "      <th>0</th>\n",
       "      <td>1</td>\n",
       "      <td>0</td>\n",
       "      <td>24</td>\n",
       "      <td>4</td>\n",
       "      <td>7</td>\n",
       "      <td>1</td>\n",
       "      <td>4.0</td>\n",
       "      <td>2</td>\n",
       "      <td>3</td>\n",
       "      <td>2</td>\n",
       "      <td>2</td>\n",
       "      <td>0</td>\n",
       "      <td>0</td>\n",
       "    </tr>\n",
       "    <tr>\n",
       "      <th>1</th>\n",
       "      <td>2</td>\n",
       "      <td>2</td>\n",
       "      <td>18</td>\n",
       "      <td>4</td>\n",
       "      <td>4</td>\n",
       "      <td>1</td>\n",
       "      <td>3.0</td>\n",
       "      <td>1</td>\n",
       "      <td>0</td>\n",
       "      <td>0</td>\n",
       "      <td>1</td>\n",
       "      <td>1</td>\n",
       "      <td>0</td>\n",
       "    </tr>\n",
       "    <tr>\n",
       "      <th>2</th>\n",
       "      <td>3</td>\n",
       "      <td>1</td>\n",
       "      <td>20</td>\n",
       "      <td>4</td>\n",
       "      <td>3</td>\n",
       "      <td>1</td>\n",
       "      <td>1.0</td>\n",
       "      <td>1</td>\n",
       "      <td>1</td>\n",
       "      <td>1</td>\n",
       "      <td>2</td>\n",
       "      <td>0</td>\n",
       "      <td>0</td>\n",
       "    </tr>\n",
       "    <tr>\n",
       "      <th>3</th>\n",
       "      <td>4</td>\n",
       "      <td>0</td>\n",
       "      <td>12</td>\n",
       "      <td>4</td>\n",
       "      <td>4</td>\n",
       "      <td>0</td>\n",
       "      <td>4.0</td>\n",
       "      <td>2</td>\n",
       "      <td>2</td>\n",
       "      <td>1</td>\n",
       "      <td>2</td>\n",
       "      <td>0</td>\n",
       "      <td>0</td>\n",
       "    </tr>\n",
       "    <tr>\n",
       "      <th>4</th>\n",
       "      <td>5</td>\n",
       "      <td>2</td>\n",
       "      <td>12</td>\n",
       "      <td>2</td>\n",
       "      <td>0</td>\n",
       "      <td>0</td>\n",
       "      <td>1.0</td>\n",
       "      <td>1</td>\n",
       "      <td>0</td>\n",
       "      <td>0</td>\n",
       "      <td>0</td>\n",
       "      <td>0</td>\n",
       "      <td>0</td>\n",
       "    </tr>\n",
       "  </tbody>\n",
       "</table>\n",
       "</div>"
      ],
      "text/plain": [
       "   serial number  account_info  duration_month  credit_history  purpose  \\\n",
       "0              1             0              24               4        7   \n",
       "1              2             2              18               4        4   \n",
       "2              3             1              20               4        3   \n",
       "3              4             0              12               4        4   \n",
       "4              5             2              12               2        0   \n",
       "\n",
       "   savings_account  poi  personal_status  property_type  housing_type  \\\n",
       "0                1  4.0                2              3             2   \n",
       "1                1  3.0                1              0             0   \n",
       "2                1  1.0                1              1             1   \n",
       "3                0  4.0                2              2             1   \n",
       "4                0  1.0                1              0             0   \n",
       "\n",
       "   job_type  telephone  foreigner  \n",
       "0         2          0          0  \n",
       "1         1          1          0  \n",
       "2         2          0          0  \n",
       "3         2          0          0  \n",
       "4         0          0          0  "
      ]
     },
     "execution_count": 193,
     "metadata": {},
     "output_type": "execute_result"
    }
   ],
   "source": [
    "test_df.head()"
   ]
  },
  {
   "cell_type": "code",
   "execution_count": 194,
   "id": "00d3d1a7",
   "metadata": {},
   "outputs": [],
   "source": [
    "X_test=test_df"
   ]
  },
  {
   "cell_type": "code",
   "execution_count": 195,
   "id": "e954f9fb",
   "metadata": {},
   "outputs": [],
   "source": [
    "X_test= sc.transform(X_test)"
   ]
  },
  {
   "cell_type": "markdown",
   "id": "1d9415b3",
   "metadata": {},
   "source": [
    "# Random forest"
   ]
  },
  {
   "cell_type": "markdown",
   "id": "34da7b9a",
   "metadata": {},
   "source": [
    "Using Random Forest Model to predict because the model gave me the best accuracy among all the models"
   ]
  },
  {
   "cell_type": "code",
   "execution_count": 196,
   "id": "24214c92",
   "metadata": {},
   "outputs": [],
   "source": [
    "from sklearn.ensemble import RandomForestClassifier\n",
    "y_pred_test_RF=rfFit.predict(X_test)"
   ]
  },
  {
   "cell_type": "code",
   "execution_count": 197,
   "id": "bf9279ac",
   "metadata": {},
   "outputs": [
    {
     "data": {
      "text/plain": [
       "array([2, 1, 2, 2, 3, 1, 3, 3, 1, 3, 3, 2, 2, 1, 1, 1, 2, 3, 1, 2, 3, 2,\n",
       "       1, 3, 2, 2, 2, 2, 1, 2, 2, 2, 1, 1, 2, 2, 2, 2, 2, 2, 2, 2, 2, 2,\n",
       "       2, 2, 1, 3, 2, 3, 3, 2, 2, 2, 1, 3, 3, 2, 2, 2, 2, 2, 2, 2, 2, 2,\n",
       "       2, 2, 1, 3, 1, 3, 2, 2, 3, 3, 1, 2, 1, 1, 1, 1, 2, 2, 2, 3, 2, 1,\n",
       "       1, 1, 2, 2, 3, 1, 2, 1, 2, 3, 2, 2, 1, 2, 1, 3, 2, 1, 2, 1, 2, 3,\n",
       "       2, 1, 1, 3, 2, 1, 2, 1, 2, 2, 2, 1, 3, 1, 1, 3, 2, 1, 2, 3, 2, 3,\n",
       "       2, 3, 3, 1, 3, 2, 2, 1, 1, 3, 2, 3, 3, 1, 2, 2, 3, 2, 2, 1, 2, 2,\n",
       "       3, 2, 1, 2, 1, 2, 2, 2, 1, 2, 3, 2, 2, 2, 1, 2, 3, 2, 3, 2, 2, 2,\n",
       "       2, 2, 3, 2, 1, 1, 1, 1, 1, 3, 1, 2, 1, 2, 2, 3, 2, 1, 3, 2, 1, 3,\n",
       "       2, 1], dtype=int64)"
      ]
     },
     "execution_count": 197,
     "metadata": {},
     "output_type": "execute_result"
    }
   ],
   "source": [
    "y_pred_test_RF"
   ]
  },
  {
   "cell_type": "code",
   "execution_count": 198,
   "id": "c765050b",
   "metadata": {},
   "outputs": [],
   "source": [
    "# Create submission file\n",
    "submission_df = pd.DataFrame({'serial number': test_df['serial number'], 'Group_no': y_pred_test_RF})\n",
    "submission_df.to_csv('submission.csv', index=False)"
   ]
  },
  {
   "cell_type": "code",
   "execution_count": null,
   "id": "d78c7431",
   "metadata": {},
   "outputs": [],
   "source": []
  }
 ],
 "metadata": {
  "kernelspec": {
   "display_name": "Python 3 (ipykernel)",
   "language": "python",
   "name": "python3"
  },
  "language_info": {
   "codemirror_mode": {
    "name": "ipython",
    "version": 3
   },
   "file_extension": ".py",
   "mimetype": "text/x-python",
   "name": "python",
   "nbconvert_exporter": "python",
   "pygments_lexer": "ipython3",
   "version": "3.9.12"
  }
 },
 "nbformat": 4,
 "nbformat_minor": 5
}
